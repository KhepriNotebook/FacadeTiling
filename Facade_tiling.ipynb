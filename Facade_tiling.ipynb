{
 "cells": [
  {
   "cell_type": "markdown",
   "metadata": {
    "hideCode": false,
    "hidePrompt": false
   },
   "source": [
    "# Facade Tiling"
   ]
  },
  {
   "cell_type": "markdown",
   "metadata": {
    "hideCode": false,
    "hidePrompt": false
   },
   "source": [
    "__Project Concept__\n",
    "\n",
    "The case study is a façade envelope for an office building in Av. República, Lisbon, Portugal. The façade design is inspired by triangular tiling techniques. Tiling refers to any partition of the plane into smaller regions, named tiles, that fit together without gaps or overlaps. This technique has found several applications in architecture, namely, to explore both the tectonic and visual expressiveness of tiling to generate building skins with multiple geometric patterns and performance behaviors (e.g., shading, ventilation, lighting proprieties, among others). In this notebook, we explore the geometric development of an algorithmic triangular tiling façade: we use tiling to create a visually interesting/dynamic geometric pattern, as well as to shade the interior spaces of the building from the intense natural daylight typical of southern European countries.\n",
    "\n",
    "__Notebook Structure__\n",
    "\n",
    "The notebook is organized according to the development stages of the project, including the set up of the site, the exploration of the façade design, its optimization and fabrication plan. In these sections we explain both the concept and the way the functions are implemented, and we illustrate them with examples of the possible parametric variations. The optimization process narrowed the design space towards a set of final design solutions, which are them detailed in the fabrication section.\n",
    "\n",
    "__Running the Notebook__\n",
    "\n",
    "This Algorithmic Design (AD) program was written in the Julia programming language and using the Khepri AD tool. Please install the requited dependencies (used packaged listed below) in order to run the notebook locally on your PC."
   ]
  },
  {
   "cell_type": "markdown",
   "metadata": {
    "hideCode": false,
    "hidePrompt": false
   },
   "source": [
    "<img src=\"./figures/variations.png\" width=\"900\">"
   ]
  },
  {
   "cell_type": "markdown",
   "metadata": {
    "hideCode": false,
    "hidePrompt": false
   },
   "source": [
    "# Package Setup"
   ]
  },
  {
   "cell_type": "markdown",
   "metadata": {
    "hideCode": false,
    "hidePrompt": false
   },
   "source": [
    "__Install__:"
   ]
  },
  {
   "cell_type": "code",
   "execution_count": null,
   "metadata": {
    "hideCode": false,
    "hidePrompt": false
   },
   "outputs": [],
   "source": [
    "# using Pkg"
   ]
  },
  {
   "cell_type": "code",
   "execution_count": null,
   "metadata": {
    "hideCode": false,
    "hidePrompt": false
   },
   "outputs": [],
   "source": [
    "# CSV\n",
    "# Pkg.add(PackageSpec(url=\"https://github.com/JuliaData/CSV.jl#01e46b4b264b2c73ed51f18282d128b57b76d097\"))"
   ]
  },
  {
   "cell_type": "code",
   "execution_count": null,
   "metadata": {
    "hideCode": false,
    "hidePrompt": false
   },
   "outputs": [],
   "source": [
    "# DataFrames\n",
    "# Pkg.add(PackageSpec(url=\"https://github.com/JuliaData/DataFrames.jl#473260902f36ee9fb1ede5b1c69b81255eb4e5b1\"))"
   ]
  },
  {
   "cell_type": "code",
   "execution_count": null,
   "metadata": {
    "hideCode": false,
    "hidePrompt": false
   },
   "outputs": [],
   "source": [
    "# WebIO\n",
    "# Pkg.add(PackageSpec(url=\"https://github.com/JuliaGizmos/WebIO.jl#de95ec71ac81484f50ccd1db68d96f55380f8b6f\"))"
   ]
  },
  {
   "cell_type": "code",
   "execution_count": null,
   "metadata": {
    "hideCode": false,
    "hidePrompt": false
   },
   "outputs": [],
   "source": [
    "#PlotlyJS\n",
    "# Pkg.add(PackageSpec(url=\"https://github.com/sglyon/PlotlyJS.jl#6580f9868ae8ada802eca8dc1327311b98436982\"))"
   ]
  },
  {
   "cell_type": "code",
   "execution_count": null,
   "metadata": {
    "hideCode": false,
    "hidePrompt": false
   },
   "outputs": [],
   "source": [
    "# Interact\n",
    "# Pkg.add(PackageSpec(url=\"https://github.com/JuliaGizmos/Interact.jl#dd595cfd24feaaebba8c5456d5b7760f239b4241\"))"
   ]
  },
  {
   "cell_type": "code",
   "execution_count": null,
   "metadata": {
    "hideCode": false,
    "hidePrompt": false
   },
   "outputs": [],
   "source": [
    "# OpenStreetMap\n",
    "# Pkg.add(PackageSpec(url=\"https://github.com/pszufe/OpenStreetMapX.jl\"))"
   ]
  },
  {
   "cell_type": "code",
   "execution_count": null,
   "metadata": {
    "hideCode": false,
    "hidePrompt": false
   },
   "outputs": [],
   "source": [
    "# Khepri\n",
    "# Pkg.add(PackageSpec(url=\"https://github.com/aptmcl/Khepri.jl\"))"
   ]
  },
  {
   "cell_type": "code",
   "execution_count": null,
   "metadata": {
    "hideCode": false,
    "hidePrompt": false
   },
   "outputs": [],
   "source": [
    "# Pkg.update(\"Khepri\")"
   ]
  },
  {
   "cell_type": "code",
   "execution_count": null,
   "metadata": {
    "hideCode": false,
    "hidePrompt": false
   },
   "outputs": [],
   "source": [
    "# ADOPT\n",
    "# Pkg.add(PackageSpec(url=\"https://github.com/PastelBelem8/ADOPT.jl#5496aeda232873d0e908b1714d789847d1d4353a\")"
   ]
  },
  {
   "cell_type": "markdown",
   "metadata": {
    "hideCode": false,
    "hidePrompt": false
   },
   "source": [
    "__Use:__"
   ]
  },
  {
   "cell_type": "markdown",
   "metadata": {
    "hideCode": false,
    "hidePrompt": false
   },
   "source": [
    "Site:"
   ]
  },
  {
   "cell_type": "code",
   "execution_count": 1,
   "metadata": {
    "hideCode": false,
    "hidePrompt": false,
    "scrolled": true
   },
   "outputs": [
    {
     "ename": "ArgumentError",
     "evalue": "ArgumentError: Package OpenStreetMapX not found in current path:\n- Run `import Pkg; Pkg.add(\"OpenStreetMapX\")` to install the OpenStreetMapX package.\n",
     "output_type": "error",
     "traceback": [
      "ArgumentError: Package OpenStreetMapX not found in current path:\n- Run `import Pkg; Pkg.add(\"OpenStreetMapX\")` to install the OpenStreetMapX package.\n",
      "",
      "Stacktrace:",
      " [1] require(::Module, ::Symbol) at .\\loading.jl:892",
      " [2] top-level scope at In[1]:1"
     ]
    }
   ],
   "source": [
    "using OpenStreetMapX"
   ]
  },
  {
   "cell_type": "markdown",
   "metadata": {
    "hideCode": false,
    "hidePrompt": false
   },
   "source": [
    "AD:"
   ]
  },
  {
   "cell_type": "code",
   "execution_count": 2,
   "metadata": {
    "hideCode": false,
    "hidePrompt": false
   },
   "outputs": [],
   "source": [
    "using Base.Iterators"
   ]
  },
  {
   "cell_type": "code",
   "execution_count": 3,
   "metadata": {
    "hideCode": false,
    "hidePrompt": false
   },
   "outputs": [
    {
     "data": {
      "text/html": [
       "<script>\n",
       "// Immediately-invoked-function-expression to avoid global variables.\n",
       "(function() {\n",
       "    var warning_div = document.getElementById(\"webio-warning-7646894253024058357\");\n",
       "    var hide = function () {\n",
       "        var script = document.getElementById(\"webio-setup-5716622655110525918\");\n",
       "        var parent = script && script.parentElement;\n",
       "        var grandparent = parent && parent.parentElement;\n",
       "        if (grandparent) {\n",
       "            grandparent.style.display = \"none\";\n",
       "        }\n",
       "        warning_div.style.display = \"none\";\n",
       "    };\n",
       "    if (typeof Jupyter !== \"undefined\") {\n",
       "        console.log(\"WebIO detected Jupyter notebook environment.\");\n",
       "        // Jupyter notebook.\n",
       "        var extensions = (\n",
       "            Jupyter\n",
       "            && Jupyter.notebook.config.data\n",
       "            && Jupyter.notebook.config.data.load_extensions\n",
       "        );\n",
       "        if (extensions && extensions[\"webio-jupyter-notebook\"]) {\n",
       "            // Extension already loaded.\n",
       "            console.log(\"Jupyter WebIO nbextension detected; not loading ad-hoc.\");\n",
       "            hide();\n",
       "            return;\n",
       "        }\n",
       "    } else if (window.location.pathname.includes(\"/lab\")) {\n",
       "        // Guessing JupyterLa\n",
       "        console.log(\"Jupyter Lab detected; make sure the @webio/jupyter-lab-provider labextension is installed.\");\n",
       "        hide();\n",
       "        return;\n",
       "    }\n",
       "})();\n",
       "\n",
       "</script>\n",
       "<p\n",
       "    id=\"webio-warning-7646894253024058357\"\n",
       "    class=\"output_text output_stderr\"\n",
       "    style=\"padding: 1em; font-weight: bold;\"\n",
       ">\n",
       "    Unable to load WebIO. Please make sure WebIO works for your Jupyter client.\n",
       "    For troubleshooting, please see <a href=\"https://juliagizmos.github.io/WebIO.jl/latest/providers/ijulia/\">\n",
       "    the WebIO/IJulia documentation</a>.\n",
       "    <!-- TODO: link to installation docs. -->\n",
       "</p>\n"
      ],
      "text/plain": [
       "HTML{String}(\"<script>\\n// Immediately-invoked-function-expression to avoid global variables.\\n(function() {\\n    var warning_div = document.getElementById(\\\"webio-warning-7646894253024058357\\\");\\n    var hide = function () {\\n        var script = document.getElementById(\\\"webio-setup-5716622655110525918\\\");\\n        var parent = script && script.parentElement;\\n        var grandparent = parent && parent.parentElement;\\n        if (grandparent) {\\n            grandparent.style.display = \\\"none\\\";\\n        }\\n        warning_div.style.display = \\\"none\\\";\\n    };\\n    if (typeof Jupyter !== \\\"undefined\\\") {\\n        console.log(\\\"WebIO detected Jupyter notebook environment.\\\");\\n        // Jupyter notebook.\\n        var extensions = (\\n            Jupyter\\n            && Jupyter.notebook.config.data\\n            && Jupyter.notebook.config.data.load_extensions\\n        );\\n        if (extensions && extensions[\\\"webio-jupyter-notebook\\\"]) {\\n            // Extension already loaded.\\n            console.log(\\\"Jupyter WebIO nbextension detected; not loading ad-hoc.\\\");\\n            hide();\\n            return;\\n        }\\n    } else if (window.location.pathname.includes(\\\"/lab\\\")) {\\n        // Guessing JupyterLa\\n        console.log(\\\"Jupyter Lab detected; make sure the @webio/jupyter-lab-provider labextension is installed.\\\");\\n        hide();\\n        return;\\n    }\\n})();\\n\\n</script>\\n<p\\n    id=\\\"webio-warning-7646894253024058357\\\"\\n    class=\\\"output_text output_stderr\\\"\\n    style=\\\"padding: 1em; font-weight: bold;\\\"\\n>\\n    Unable to load WebIO. Please make sure WebIO works for your Jupyter client.\\n    For troubleshooting, please see <a href=\\\"https://juliagizmos.github.io/WebIO.jl/latest/providers/ijulia/\\\">\\n    the WebIO/IJulia documentation</a>.\\n    <!-- TODO: link to installation docs. -->\\n</p>\\n\")"
      ]
     },
     "metadata": {},
     "output_type": "display_data"
    }
   ],
   "source": [
    "using Khepri"
   ]
  },
  {
   "cell_type": "markdown",
   "metadata": {
    "hideCode": false,
    "hidePrompt": false
   },
   "source": [
    "Visualizers:"
   ]
  },
  {
   "cell_type": "code",
   "execution_count": 4,
   "metadata": {
    "hideCode": false,
    "hidePrompt": false
   },
   "outputs": [],
   "source": [
    "using Logging"
   ]
  },
  {
   "cell_type": "code",
   "execution_count": 5,
   "metadata": {
    "hideCode": false,
    "hidePrompt": false
   },
   "outputs": [],
   "source": [
    "using WebIO"
   ]
  },
  {
   "cell_type": "code",
   "execution_count": 6,
   "metadata": {
    "hideCode": false,
    "hidePrompt": false
   },
   "outputs": [],
   "source": [
    "using PlotlyJS"
   ]
  },
  {
   "cell_type": "code",
   "execution_count": null,
   "metadata": {
    "hideCode": false,
    "hidePrompt": false
   },
   "outputs": [],
   "source": [
    "using Interact"
   ]
  },
  {
   "cell_type": "markdown",
   "metadata": {
    "hideCode": false,
    "hidePrompt": false
   },
   "source": [
    "Optimization:"
   ]
  },
  {
   "cell_type": "code",
   "execution_count": null,
   "metadata": {
    "hideCode": false,
    "hidePrompt": false
   },
   "outputs": [],
   "source": [
    "using CSV"
   ]
  },
  {
   "cell_type": "code",
   "execution_count": null,
   "metadata": {
    "hideCode": false,
    "hidePrompt": false
   },
   "outputs": [],
   "source": [
    "using DataFrames"
   ]
  },
  {
   "cell_type": "code",
   "execution_count": null,
   "metadata": {
    "hideCode": false,
    "hidePrompt": false
   },
   "outputs": [],
   "source": [
    "# using ADOPT"
   ]
  },
  {
   "cell_type": "code",
   "execution_count": null,
   "metadata": {
    "hideCode": false,
    "hidePrompt": false
   },
   "outputs": [],
   "source": [
    "# using ADOPT.Sampling"
   ]
  },
  {
   "cell_type": "code",
   "execution_count": null,
   "metadata": {
    "hideCode": false,
    "hidePrompt": false
   },
   "outputs": [],
   "source": [
    "# using ADOPT.Platypus"
   ]
  },
  {
   "cell_type": "markdown",
   "metadata": {
    "hideCode": false,
    "hidePrompt": false
   },
   "source": [
    "## Notebook Macros"
   ]
  },
  {
   "cell_type": "markdown",
   "metadata": {
    "hideCode": false,
    "hidePrompt": false
   },
   "source": [
    "__Outlining__\n",
    "\n",
    "The following macro allows you to use outlining in this notebook. `avoid_tests`, when set to true, will allow you to run the run the entire notebook skipping intermediate tests. When set to false, you may run the test spread trough the document, which illustrate the program's functions."
   ]
  },
  {
   "cell_type": "code",
   "execution_count": null,
   "metadata": {
    "hideCode": false,
    "hidePrompt": false
   },
   "outputs": [],
   "source": [
    "avoid_tests = Khepri.Parameter(true)\n",
    "\n",
    "macro test(expr...)\n",
    "  quote\n",
    "    if !avoid_tests() \n",
    "        begin\n",
    "            $(esc(expr...))\n",
    "        end\n",
    "    end\n",
    "  end\n",
    "end  "
   ]
  },
  {
   "cell_type": "code",
   "execution_count": null,
   "metadata": {
    "hideCode": false,
    "hidePrompt": false
   },
   "outputs": [],
   "source": [
    "# avoid_tests(false)"
   ]
  },
  {
   "cell_type": "markdown",
   "metadata": {
    "hideCode": false,
    "hidePrompt": false
   },
   "source": [
    "__Remove logs:__ avoid log messages as cell outputs."
   ]
  },
  {
   "cell_type": "code",
   "execution_count": null,
   "metadata": {
    "hideCode": false,
    "hidePrompt": false
   },
   "outputs": [],
   "source": [
    "Logging.disable_logging(Logging.Info)"
   ]
  },
  {
   "cell_type": "markdown",
   "metadata": {
    "hideCode": false,
    "hidePrompt": false
   },
   "source": [
    "# Site Map"
   ]
  },
  {
   "cell_type": "markdown",
   "metadata": {
    "hideCode": false,
    "hidePrompt": false
   },
   "source": [
    "We aquired the site's information from OpenStreetMap, namely the urban surrounding plan and building height information. \n",
    "\n",
    "The location is Av. República n7, Lisbon, Portugal."
   ]
  },
  {
   "cell_type": "markdown",
   "metadata": {
    "hideCode": false,
    "hidePrompt": false
   },
   "source": [
    "Get .osm map file from: https://www.openstreetmap.org/way/96884765"
   ]
  },
  {
   "cell_type": "markdown",
   "metadata": {
    "hideCode": false,
    "hidePrompt": false
   },
   "source": [
    "| Open Street Map Site Plan                         |  Google Street View of Building Site              |\n",
    "|---------------------------------------------------|---------------------------------------------------|\n",
    "| <img src=\"./figures/open_street_map.png\" width=\"500\"> | <img src=\"./figures/google_street_view.png\" width=\"500\"> |\n",
    "\n",
    "| Google globe view                         |\n",
    "|-------------------------------------------|\n",
    "| <img src=\"./figures/google_globe_bb.png\" width=\"1000\"> | "
   ]
  },
  {
   "cell_type": "markdown",
   "metadata": {
    "hideCode": false,
    "hidePrompt": false
   },
   "source": [
    "Functions that generate the buildings 3D model using the exported information (plan vertices and height):"
   ]
  },
  {
   "cell_type": "markdown",
   "metadata": {
    "hideCode": false,
    "hidePrompt": false
   },
   "source": [
    "`building_height` finds the building height from whatever information is available in the extracted map."
   ]
  },
  {
   "cell_type": "code",
   "execution_count": null,
   "metadata": {
    "hideCode": false,
    "hidePrompt": false
   },
   "outputs": [],
   "source": [
    "building_height(way) =\n",
    "  begin\n",
    "    for key in [\"height\", \"building:height\", \"min_height\", \"roof:height\"]\n",
    "      if haskey(way.tags, key)\n",
    "        return parse_length(way.tags[key])\n",
    "      end\n",
    "    end\n",
    "    for key in [\"building:levels\", \"roof:levels\"]\n",
    "      if haskey(way.tags, key)\n",
    "        return parse_length(way.tags[key])*3\n",
    "      end\n",
    "    end\n",
    "    30 # default building height\n",
    "  end"
   ]
  },
  {
   "cell_type": "markdown",
   "metadata": {
    "hideCode": false,
    "hidePrompt": false
   },
   "source": [
    "`parse_length` returns the length value in meters."
   ]
  },
  {
   "cell_type": "code",
   "execution_count": null,
   "metadata": {
    "hideCode": false,
    "hidePrompt": false
   },
   "outputs": [],
   "source": [
    "parse_length(str) =\n",
    "  if endswith(str, \"m\")\n",
    "    parse(Float64, str[1:end-1])\n",
    "  elseif endswith(str, \"ft\")\n",
    "    parse(Float64, str[1:end-2])*0.3048 # feet to meter conversion\n",
    "  else\n",
    "    parse(Float64, str)\n",
    "  end"
   ]
  },
  {
   "cell_type": "markdown",
   "metadata": {
    "hideCode": false,
    "hidePrompt": false
   },
   "source": [
    "`building_data` returns the building outline (point array) and its height."
   ]
  },
  {
   "cell_type": "code",
   "execution_count": null,
   "metadata": {
    "hideCode": false,
    "hidePrompt": false
   },
   "outputs": [],
   "source": [
    "building_data(nodes, way) =\n",
    "  let waynodes = way.nodes,\n",
    "      height = building_height(way),\n",
    "      enus = [nodes[id] for id in waynodes],\n",
    "      pts = [xyz(l.east, l.north, l.up) for l in enus],\n",
    "      z = cz(pts[1])\n",
    "    ([xyz(pt.x, pt.y, z) for pt in pts], height)\n",
    "  end"
   ]
  },
  {
   "cell_type": "markdown",
   "metadata": {
    "hideCode": false,
    "hidePrompt": false
   },
   "source": [
    "`is_building` tests if an open street map element is a building."
   ]
  },
  {
   "cell_type": "code",
   "execution_count": null,
   "metadata": {
    "hideCode": false,
    "hidePrompt": false
   },
   "outputs": [],
   "source": [
    "is_building(way) =\n",
    "  haskey(way.tags, \"building\")"
   ]
  },
  {
   "cell_type": "markdown",
   "metadata": {
    "hideCode": false,
    "hidePrompt": false
   },
   "source": [
    "`city_data` returns the building data of all building elements on the map."
   ]
  },
  {
   "cell_type": "code",
   "execution_count": null,
   "metadata": {
    "hideCode": false,
    "hidePrompt": false
   },
   "outputs": [],
   "source": [
    "city_data(map) =\n",
    "  let nodes = OpenStreetMapX.ENU(map.nodes, first(values(map.nodes)))\n",
    "    [building_data(nodes, way)\n",
    "     for way in map.ways\n",
    "     if is_building(way)]\n",
    "  end"
   ]
  },
  {
   "cell_type": "markdown",
   "metadata": {
    "hideCode": false,
    "hidePrompt": false
   },
   "source": [
    "Given a file name for an OpenStreetMap file, `buildings_from_osm` generates the 3D model of the site:"
   ]
  },
  {
   "cell_type": "code",
   "execution_count": null,
   "metadata": {
    "hideCode": false,
    "hidePrompt": false
   },
   "outputs": [],
   "source": [
    "buildings_data_from_osm(filename) =\n",
    "  let m = OpenStreetMapX.parseOSM(joinpath(@__DIR__, filename))\n",
    "    city_data(m)\n",
    "  end\n",
    "\n",
    "osm_building((pts, h)) = irregular_prism(pts[1:end-1], h)\n",
    "\n",
    "buildings_from_osm(filename) =\n",
    "  osm_building.(buildings_data_from_osm(filename))"
   ]
  },
  {
   "cell_type": "markdown",
   "metadata": {
    "hideCode": false,
    "hidePrompt": false
   },
   "source": [
    "Generate original site 3D model of urban surroundings:"
   ]
  },
  {
   "cell_type": "code",
   "execution_count": null,
   "metadata": {
    "hideCode": false,
    "hidePrompt": false
   },
   "outputs": [],
   "source": [
    "@test begin\n",
    "    backend(meshcat)\n",
    "#     backend(autocad)\n",
    "#     backend(rhino)\n",
    "#     backend(revit)\n",
    "    render_size(900,400)\n",
    "end"
   ]
  },
  {
   "cell_type": "code",
   "execution_count": null,
   "metadata": {
    "hideCode": false,
    "hidePrompt": false
   },
   "outputs": [],
   "source": [
    "@test begin\n",
    "    new_backend()\n",
    "end;"
   ]
  },
  {
   "cell_type": "markdown",
   "metadata": {
    "hideCode": false,
    "hidePrompt": false
   },
   "source": [
    "The test should show the site with the project building included in the surroundings:"
   ]
  },
  {
   "cell_type": "code",
   "execution_count": null,
   "metadata": {
    "hideCode": false,
    "hidePrompt": false
   },
   "outputs": [],
   "source": [
    "@test begin\n",
    "    delete_all_shapes()\n",
    "    buildings_from_osm(\"map.osm\")\n",
    "    cylinder(u0(), 0.1, 1.8) # person attempt\n",
    "end"
   ]
  },
  {
   "cell_type": "markdown",
   "metadata": {
    "hideCode": false,
    "hidePrompt": false
   },
   "source": [
    "Expected result (meshcat):\n",
    "\n",
    "<img src=\"./figures/site_3D_meshcat.png\" width=\"800\">"
   ]
  },
  {
   "cell_type": "markdown",
   "metadata": {
    "hideCode": false,
    "hidePrompt": false
   },
   "source": [
    "| Plan site in AutoCAD                       |  3D site model in AutoCAD             |\n",
    "|---------------------------------------------------|---------------------------------------------------|\n",
    "| <img src=\"./figures/site_autocad_plan_color.png\" width=\"390\"> | <img src=\"./figures/site_autocad_3D_color.png\" width=\"630\"> |\n",
    "\n",
    "| 3D site model in Rhino             |\n",
    "|-------------------------------------------|\n",
    "| <img src=\"./figures/location_rhino.png\" width=\"1000\"> | "
   ]
  },
  {
   "cell_type": "markdown",
   "metadata": {
    "hideCode": false,
    "hidePrompt": false
   },
   "source": [
    "The test should show the site without the project building:"
   ]
  },
  {
   "cell_type": "code",
   "execution_count": null,
   "metadata": {
    "hideCode": false,
    "hidePrompt": false
   },
   "outputs": [],
   "source": [
    "@test begin\n",
    "    delete_all_shapes()\n",
    "    osm_building.(buildings_data_from_osm(\"map.osm\")[1:end .!= 188])\n",
    "end"
   ]
  },
  {
   "cell_type": "markdown",
   "metadata": {
    "hideCode": false,
    "hidePrompt": false
   },
   "source": [
    "| 3D site model in Revit without project building [188]             |\n",
    "|-------------------------------------------|\n",
    "| <img src=\"./figures/surroundings_revit.png\" width=\"1000\"> | "
   ]
  },
  {
   "cell_type": "markdown",
   "metadata": {
    "hideCode": false,
    "hidePrompt": false
   },
   "source": [
    "The test should show the project building only:"
   ]
  },
  {
   "cell_type": "code",
   "execution_count": null,
   "metadata": {
    "hideCode": false,
    "hidePrompt": false
   },
   "outputs": [],
   "source": [
    "@test begin\n",
    "    delete_all_shapes()\n",
    "    osm_building(buildings_data_from_osm(\"map.osm\")[188])\n",
    "end"
   ]
  },
  {
   "cell_type": "markdown",
   "metadata": {
    "hideCode": false,
    "hidePrompt": false
   },
   "source": [
    "Expected result (meshcat):\n",
    "<img src=\"./figures/project_build_mesh.png\" width=\"300\">"
   ]
  },
  {
   "cell_type": "markdown",
   "metadata": {
    "hideCode": false,
    "hidePrompt": false
   },
   "source": [
    "# Facade Concept"
   ]
  },
  {
   "cell_type": "markdown",
   "metadata": {
    "hideCode": false,
    "hidePrompt": false
   },
   "source": [
    "__Tiling__\n",
    "\n",
    "A tiling of the plane is a family of sets - called tiles - that cover the plane without gaps or overlaps. Tiling is also known as tessellation, paving, or mosaics; they have appeared in human activities since prehistoric time, including architecture. This technique has found several applications in architecture, namely, to explore both its tectonic and visual expressiveness to generate building skins with multiple geometric patterns and performance behaviors (e.g., shading, ventilation, lighting proprieties, among others). \n",
    "\n",
    "In this particular design, we use tiling to create a visually interesting/dynamic geometric pattern, as well as to shade the interior spaces of the building: we opted for using irregular triangular tiles, which we materialize as triangular-shaped elements that can have different sizes and opacity levels."
   ]
  },
  {
   "cell_type": "markdown",
   "metadata": {
    "hideCode": false,
    "hidePrompt": false
   },
   "source": [
    "| Tile aperture shapes and sizes |\n",
    "|-------------------------------------------------------------------------------------|\n",
    "| <img src=\"./figures/tiles_paint.png\" width=\"400\">|"
   ]
  },
  {
   "cell_type": "markdown",
   "metadata": {
    "hideCode": false,
    "hidePrompt": false
   },
   "source": [
    "__On site__\n",
    "\n",
    "The application of the pattern to the building's façade intends to both create a visually interesting/dynamic geometric effect, and to shade the interior spaces of the building from the intense natural daylight typical of southern European countries. The pattern creates an interesting light effect on the inside office spaces."
   ]
  },
  {
   "cell_type": "markdown",
   "metadata": {
    "hideCode": false,
    "hidePrompt": false
   },
   "source": [
    "| Hand-made drawing of the initial design intent for the location |\n",
    "|---------------------------------------------------|\n",
    "| <img src=\"./figures/sketch_facade1.png\" width=\"700\">|"
   ]
  },
  {
   "cell_type": "markdown",
   "metadata": {
    "hideCode": false,
    "hidePrompt": false
   },
   "source": [
    "#  Algorithmic Description"
   ]
  },
  {
   "cell_type": "markdown",
   "metadata": {
    "hideCode": false,
    "hidePrompt": false
   },
   "source": [
    "## Auxiliar Functions\n",
    "\n",
    "This section contains auxiliary functions for the development of the façade tiling design"
   ]
  },
  {
   "cell_type": "markdown",
   "metadata": {
    "hideCode": false,
    "hidePrompt": false
   },
   "source": [
    "This function creates a constant value."
   ]
  },
  {
   "cell_type": "code",
   "execution_count": null,
   "metadata": {
    "hideCode": false,
    "hidePrompt": false
   },
   "outputs": [],
   "source": [
    "always(x) = i -> x"
   ]
  },
  {
   "cell_type": "markdown",
   "metadata": {
    "hideCode": false,
    "hidePrompt": false
   },
   "source": [
    "| Polygon center        |\n",
    "|---------------------------------------------------|\n",
    "| <img src=\"./figures/polygon_center.png\" width=\"400\"> |"
   ]
  },
  {
   "cell_type": "markdown",
   "metadata": {
    "hideCode": false,
    "hidePrompt": false
   },
   "source": [
    "The function `polygon_center` receives the vertices defining a polygon, and returns its center. "
   ]
  },
  {
   "cell_type": "code",
   "execution_count": null,
   "metadata": {
    "hideCode": false,
    "hidePrompt": false
   },
   "outputs": [],
   "source": [
    "polygon_center(pts) = \n",
    "    let n = length(pts),\n",
    "        xs = [cx(p) for p in pts],\n",
    "        ys = [cy(p) for p in pts],\n",
    "        zs = [cz(p) for p in pts]\n",
    "        xyz(sum(xs)/n, sum(ys)/n, sum(zs)/n)\n",
    "    end"
   ]
  },
  {
   "cell_type": "markdown",
   "metadata": {
    "hideCode": false,
    "hidePrompt": false
   },
   "source": [
    "## Distributions"
   ]
  },
  {
   "cell_type": "markdown",
   "metadata": {
    "hideCode": false,
    "hidePrompt": false
   },
   "source": [
    "| Tile pattern distribution options: conceptual sketch        |\n",
    "|---------------------------------------------------|\n",
    "| <img src=\"./figures/sketch1_distributions.jpg\" width=\"800\"> |"
   ]
  },
  {
   "cell_type": "code",
   "execution_count": null,
   "metadata": {
    "hideCode": false,
    "hidePrompt": false
   },
   "outputs": [],
   "source": [
    "@test begin\n",
    "    backend(notebook)\n",
    "    render_size(800, 400)\n",
    "end"
   ]
  },
  {
   "cell_type": "markdown",
   "metadata": {
    "hideCode": false,
    "hidePrompt": false
   },
   "source": [
    "The function `itera_squares` receives a matrix of points defining a surface and iterates over this matrix, rearranging those points in a regular triangular grid."
   ]
  },
  {
   "cell_type": "code",
   "execution_count": null,
   "metadata": {
    "hideCode": false,
    "hidePrompt": false
   },
   "outputs": [],
   "source": [
    "itera_squares(ptss) =\n",
    "    vcat([[[p0, p1, p2, p3]\n",
    "           for (p0, p1, p2, p3) in zip(pts0[1:end-1], pts1[1:end-1], pts1[2:end], pts0[2:end])]\n",
    "          for (pts0, pts1) in zip(ptss[1:end-1], ptss[2:end])]...)"
   ]
  },
  {
   "cell_type": "markdown",
   "metadata": {
    "hideCode": false,
    "hidePrompt": false
   },
   "source": [
    "The function `transpose_matrix` converts the matrix columns to rows and rows to columns."
   ]
  },
  {
   "cell_type": "code",
   "execution_count": null,
   "metadata": {
    "hideCode": false,
    "hidePrompt": false
   },
   "outputs": [],
   "source": [
    "transpose_matrix(matrix) =\n",
    "    [[row[i] for row in matrix]\n",
    "    for i in 1:length(matrix[1])]"
   ]
  },
  {
   "cell_type": "code",
   "execution_count": null,
   "metadata": {
    "hideCode": false,
    "hidePrompt": false
   },
   "outputs": [],
   "source": [
    "@test begin\n",
    "    new_backend()\n",
    "    ptss = map_division(xz, 0, 10, 10, 0, 10, 10)\n",
    "    map(Khepri.line, ptss)\n",
    "    map(Khepri.line, transpose_matrix(ptss))\n",
    "end;"
   ]
  },
  {
   "cell_type": "markdown",
   "metadata": {
    "hideCode": false,
    "hidePrompt": false
   },
   "source": [
    "Expected result:\n",
    "<img src=\"./figures/distribution_matrix.png\" width=\"400\">"
   ]
  },
  {
   "cell_type": "code",
   "execution_count": null,
   "metadata": {},
   "outputs": [],
   "source": [
    "my_polygon(pts) = Khepri.line(pts..., pts[1])"
   ]
  },
  {
   "cell_type": "code",
   "execution_count": null,
   "metadata": {
    "hideCode": false,
    "hidePrompt": false
   },
   "outputs": [],
   "source": [
    "@test begin\n",
    "    new_backend()\n",
    "    ptss = map_division(xz, 0, 5, 5, 0, 5, 5)\n",
    "    map(my_polygon, itera_squares(ptss))\n",
    "end;"
   ]
  },
  {
   "cell_type": "markdown",
   "metadata": {
    "hideCode": false,
    "hidePrompt": false
   },
   "source": [
    "Expected result:\n",
    "<img src=\"./figures/distribution_squares.png\" width=\"400\">"
   ]
  },
  {
   "cell_type": "markdown",
   "metadata": {
    "hideCode": false,
    "hidePrompt": false
   },
   "source": [
    "The function `itera_2triangs` receives a matrix of points defining a surface and rearranges those points in a triangular grid."
   ]
  },
  {
   "cell_type": "code",
   "execution_count": null,
   "metadata": {
    "hideCode": false,
    "hidePrompt": false
   },
   "outputs": [],
   "source": [
    "itera_2triangs(ptss) =\n",
    "    vcat([vcat([[[p0,p1,p3],[p1,p2,p3]]\n",
    "                for (p0,p1,p2,p3)\n",
    "                in zip(pts0[1:end-1], pts1[1:end-1], pts1[2:end], pts0[2:end])]...)\n",
    "         for (pts0, pts1) in zip(ptss[1:end-1], ptss[2:end])]...)"
   ]
  },
  {
   "cell_type": "code",
   "execution_count": null,
   "metadata": {
    "hideCode": false,
    "hidePrompt": false
   },
   "outputs": [],
   "source": [
    "@test begin\n",
    "    new_backend()\n",
    "    ptss = map_division(xz, 0, 3, 3, 0, 3, 3)\n",
    "    map(my_polygon, itera_2triangs(ptss))\n",
    "end;"
   ]
  },
  {
   "cell_type": "markdown",
   "metadata": {
    "hideCode": false,
    "hidePrompt": false
   },
   "source": [
    "Expected result:\n",
    "<img src=\"./figures/distribution_triang.png\" width=\"400\">"
   ]
  },
  {
   "cell_type": "markdown",
   "metadata": {
    "hideCode": false,
    "hidePrompt": false
   },
   "source": [
    "The function `itera_2triangs_mirrorXY` receives a matrix of points defining a surface and rearranges those points in an irregular triangular grid: instead of being equally placed, the triangles mirror themselves in both _u_ and _v_ dimensions."
   ]
  },
  {
   "cell_type": "code",
   "execution_count": null,
   "metadata": {
    "hideCode": false,
    "hidePrompt": false
   },
   "outputs": [],
   "source": [
    "itera_2triangs_mirrorXY(ptss) =\n",
    "    vcat([vcat([if is_on\n",
    "                   is_on = !(is_on)\n",
    "                   [[p0,p1,p3],[p1,p2,p3]]\n",
    "               else\n",
    "                   is_on = !(is_on)\n",
    "                   [[p0,p1,p2],[p2,p3,p0]]\n",
    "               end\n",
    "               for (p0,p1,p2,p3)\n",
    "               in zip(pts0[1:end-1], pts1[1:end-1], pts1[2:end], pts0[2:end])]...)\n",
    "          for (pts0,pts1,is_on)\n",
    "          in zip(ptss[1:end-1], ptss[2:end], cycle([true, false]))]...)"
   ]
  },
  {
   "cell_type": "code",
   "execution_count": null,
   "metadata": {
    "hideCode": false,
    "hidePrompt": false
   },
   "outputs": [],
   "source": [
    "@test begin\n",
    "    new_backend()\n",
    "    ptss = map_division(xz, 0, 3, 3, 0, 3, 3)\n",
    "    map(my_polygon, itera_2triangs_mirrorXY(ptss))\n",
    "end;"
   ]
  },
  {
   "cell_type": "markdown",
   "metadata": {
    "hideCode": false,
    "hidePrompt": false
   },
   "source": [
    "Expected result:\n",
    "<img src=\"./figures/distribution_mirror.png\" width=\"400\">"
   ]
  },
  {
   "cell_type": "markdown",
   "metadata": {
    "hideCode": false,
    "hidePrompt": false
   },
   "source": [
    "## Pattern"
   ]
  },
  {
   "cell_type": "markdown",
   "metadata": {
    "hideCode": false,
    "hidePrompt": false
   },
   "source": [
    "| Tile pattern conceptual sketch: left - design variables, right - design variations   |\n",
    "|---------------------------------------------------|\n",
    "| <img src=\"./figures/sketch1_concept.jpg\" width=\"800\"> |\n",
    "\n",
    "| Hand-made drawing of the tiling facade with triangular tiles with varying opacity levels (first distribution option explored) |\n",
    "|---------------------------------------------------|\n",
    "| <img src=\"./figures/sketch_facade2.png\" width=\"700\"> |"
   ]
  },
  {
   "cell_type": "markdown",
   "metadata": {
    "hideCode": false,
    "hidePrompt": false
   },
   "source": [
    "__Tile design concept:__\n",
    "* Façade composed of polygonal tiles of different opacities.\n",
    "* The shape of the tiles varies according to the façade surface grid: a squared grid creates squared tiles, a triangular grid creates triangular tiles, etc.\n",
    "* The opacity of the tiles should vary according to daylight we wish to let into the interior space."
   ]
  },
  {
   "cell_type": "markdown",
   "metadata": {
    "hideCode": false,
    "hidePrompt": false
   },
   "source": [
    "The function `polygonal_tile` creates one tile whose opacity can vary between 0% (totally opaque) and 100% (totally transparent).\n",
    "\n",
    "__Parameters:__ Polygon vertices and aperture factor.\n",
    "\n",
    "* `pts`= two-dimensional distribution of points: matrix of points instead of an array of points\n",
    "* `factor`= aperture factor of the tiles\n",
    "* the function returns tiles' whose shape is automatically calculated based on the points distribution and the factor given."
   ]
  },
  {
   "cell_type": "code",
   "execution_count": null,
   "metadata": {
    "hideCode": false,
    "hidePrompt": false
   },
   "outputs": [],
   "source": [
    "polygonal_tile(pts) =\n",
    "    (; factor=0.5) ->\n",
    "    let p = polygon_center(pts)\n",
    "        qts = [intermediate_loc(p,q,factor) for q in pts]\n",
    "        my_polygon(pts)\n",
    "        my_polygon(qts)\n",
    "    end"
   ]
  },
  {
   "cell_type": "code",
   "execution_count": null,
   "metadata": {
    "hideCode": false,
    "hidePrompt": false
   },
   "outputs": [],
   "source": [
    "@test begin\n",
    "    backend(notebook)\n",
    "    render_size(600, 400)\n",
    "end"
   ]
  },
  {
   "cell_type": "code",
   "execution_count": null,
   "metadata": {
    "hideCode": false,
    "hidePrompt": false
   },
   "outputs": [],
   "source": [
    "@test begin\n",
    "    new_backend()\n",
    "    @manipulate for f=widget(0.1:0.1:0.9, label=\"Aperture factor\")\n",
    "                delete_all_shapes()\n",
    "                polygonal_tile([x(0), x(1), xz(1,1), z(1)])(factor=f)\n",
    "                nothing\n",
    "    end\n",
    "end"
   ]
  },
  {
   "cell_type": "markdown",
   "metadata": {
    "hideCode": false,
    "hidePrompt": false
   },
   "source": [
    "Expected result:\n",
    "<img src=\"./figures/tile_lines.png\" width=\"900\">"
   ]
  },
  {
   "cell_type": "markdown",
   "metadata": {
    "hideCode": false,
    "hidePrompt": false
   },
   "source": [
    "__3D object tile (surface)__"
   ]
  },
  {
   "cell_type": "markdown",
   "metadata": {
    "hideCode": false,
    "hidePrompt": false
   },
   "source": [
    "The function `polygonal_tile` redefined to create 3D CAD elements (surface polygons)"
   ]
  },
  {
   "cell_type": "code",
   "execution_count": null,
   "metadata": {
    "hideCode": false,
    "hidePrompt": false
   },
   "outputs": [],
   "source": [
    "polygonal_tile(pts) =\n",
    "    (; factor=0.5) ->\n",
    "    let p = polygon_center(pts)\n",
    "        qts = [intermediate_loc(p,q,factor) for q in pts]\n",
    "      subtraction(surface_polygon(pts), surface_polygon(qts))\n",
    "    end"
   ]
  },
  {
   "cell_type": "code",
   "execution_count": null,
   "metadata": {
    "hideCode": false,
    "hidePrompt": false
   },
   "outputs": [],
   "source": [
    "@test begin\n",
    "    backend(rhino)\n",
    "    render_size(1000, 1000)\n",
    "end"
   ]
  },
  {
   "cell_type": "code",
   "execution_count": null,
   "metadata": {
    "hideCode": false,
    "hidePrompt": false
   },
   "outputs": [],
   "source": [
    "@test begin\n",
    "    polygonal_tile([x(0), x(1), xz(1,1), z(1)])(factor=0.5)\n",
    "end;"
   ]
  },
  {
   "cell_type": "markdown",
   "metadata": {
    "hideCode": false,
    "hidePrompt": false
   },
   "source": [
    "Expected result:\n",
    "<img src=\"./figures/pattern_concept.png\" width=\"300\">"
   ]
  },
  {
   "cell_type": "markdown",
   "metadata": {
    "hideCode": false,
    "hidePrompt": false
   },
   "source": [
    "__Façade pattern: apply to the tiles__"
   ]
  },
  {
   "cell_type": "markdown",
   "metadata": {
    "hideCode": false,
    "hidePrompt": false
   },
   "source": [
    "The function `pattern` receives the pattern element and creates an entire facade pattern.\n",
    "\n",
    "__Parameters:__ Pattern conceptual element, surface points, and _n_ additional parameters of the pattern conceptual element.\n",
    "\n",
    "* `pts`= two-dimensional distribution of points: matrix of points instead of an array of points\n",
    "* `fshape` = function as an argument (e.g use `polygonal_tile` as input, with respective parameters)\n",
    "* the output of the function is a surface pattern"
   ]
  },
  {
   "cell_type": "code",
   "execution_count": null,
   "metadata": {
    "hideCode": false,
    "hidePrompt": false
   },
   "outputs": [],
   "source": [
    "pattern(fshape, pts...; args...) =\n",
    "  fshape(pts...)(; (k=>v(pts) for (k,v) in args)...)"
   ]
  },
  {
   "cell_type": "markdown",
   "metadata": {
    "hideCode": false,
    "hidePrompt": false
   },
   "source": [
    "### Squared pattern"
   ]
  },
  {
   "cell_type": "code",
   "execution_count": null,
   "metadata": {
    "hideCode": false,
    "hidePrompt": false
   },
   "outputs": [],
   "source": [
    "@test begin\n",
    "    backend(rhino)\n",
    "    render_size(1000, 1000)\n",
    "end"
   ]
  },
  {
   "cell_type": "markdown",
   "metadata": {
    "hideCode": false,
    "hidePrompt": false
   },
   "source": [
    "Simple __regular pattern__ using squared tiles."
   ]
  },
  {
   "cell_type": "code",
   "execution_count": null,
   "metadata": {
    "hideCode": false,
    "hidePrompt": false
   },
   "outputs": [],
   "source": [
    "@test begin\n",
    "    ptss = map_division(xz, 0, 10, 10, 0, 10, 10)\n",
    "    pattern.(polygonal_tile,\n",
    "             itera_squares(ptss),\n",
    "             factor=always(0.5))\n",
    "end"
   ]
  },
  {
   "cell_type": "markdown",
   "metadata": {
    "hideCode": false,
    "hidePrompt": false
   },
   "source": [
    "Expected result:\n",
    "<img src=\"./figures/test1.png\" width=\"500\">"
   ]
  },
  {
   "cell_type": "markdown",
   "metadata": {
    "hideCode": false,
    "hidePrompt": false
   },
   "source": [
    "Simple __random pattern__ using squared tiles. \n",
    "The aperture factor for each tile is defined by a `random_range`."
   ]
  },
  {
   "cell_type": "code",
   "execution_count": null,
   "metadata": {
    "hideCode": false,
    "hidePrompt": false
   },
   "outputs": [],
   "source": [
    "@test begin\n",
    "    delete_all_shapes()\n",
    "    ptss = map_division(xz, 0, 10, 10, 0, 10, 10)\n",
    "    pattern.(polygonal_tile,\n",
    "         itera_squares(ptss),\n",
    "         factor=pts->random_range(0.1,1.0))\n",
    "end"
   ]
  },
  {
   "cell_type": "markdown",
   "metadata": {
    "hideCode": false,
    "hidePrompt": false
   },
   "source": [
    "Expected result:\n",
    "<img src=\"./figures/test2.png\" width=\"500\">"
   ]
  },
  {
   "cell_type": "markdown",
   "metadata": {
    "hideCode": false,
    "hidePrompt": false
   },
   "source": [
    "### Triangular pattern"
   ]
  },
  {
   "cell_type": "code",
   "execution_count": null,
   "metadata": {
    "hideCode": false,
    "hidePrompt": false
   },
   "outputs": [],
   "source": [
    "@test begin\n",
    "    backend(rhino)\n",
    "    render_size(1000, 1000)\n",
    "end"
   ]
  },
  {
   "cell_type": "markdown",
   "metadata": {
    "hideCode": false,
    "hidePrompt": false
   },
   "source": [
    "Simple __random pattern__ using regular triangular tiles."
   ]
  },
  {
   "cell_type": "code",
   "execution_count": null,
   "metadata": {
    "hideCode": false,
    "hidePrompt": false,
    "scrolled": false
   },
   "outputs": [],
   "source": [
    "@test begin\n",
    "    delete_all_shapes()\n",
    "    ptss = map_division(xz, 0, 10, 10, 0, 10, 10)\n",
    "    pattern.(polygonal_tile,\n",
    "         itera_2triangs(ptss),\n",
    "         factor=pts->random_range(0.1,1.0))\n",
    "end"
   ]
  },
  {
   "cell_type": "markdown",
   "metadata": {
    "hideCode": false,
    "hidePrompt": false
   },
   "source": [
    "Expected result:\n",
    "<img src=\"./figures/test3.png\" width=\"500\">"
   ]
  },
  {
   "cell_type": "markdown",
   "metadata": {
    "hideCode": false,
    "hidePrompt": false
   },
   "source": [
    "### Mirrored triangular tiles"
   ]
  },
  {
   "cell_type": "code",
   "execution_count": null,
   "metadata": {
    "hideCode": false,
    "hidePrompt": false
   },
   "outputs": [],
   "source": [
    "@test begin\n",
    "    backend(rhino)\n",
    "    render_size(1000, 1000)\n",
    "end"
   ]
  },
  {
   "cell_type": "markdown",
   "metadata": {
    "hideCode": false,
    "hidePrompt": false
   },
   "source": [
    "More complex __random pattern__ using mirrored triangular tiles."
   ]
  },
  {
   "cell_type": "code",
   "execution_count": null,
   "metadata": {
    "hideCode": false,
    "hidePrompt": false
   },
   "outputs": [],
   "source": [
    "@test begin\n",
    "    delete_all_shapes()\n",
    "    ptss = map_division(xz, 0, 10, 10, 0, 10, 10)\n",
    "    pattern.(polygonal_tile,\n",
    "         itera_2triangs_mirrorXY(ptss),\n",
    "         factor=pts->random_range(0.1,1.0))\n",
    "end"
   ]
  },
  {
   "cell_type": "markdown",
   "metadata": {
    "hideCode": false,
    "hidePrompt": false
   },
   "source": [
    "Expected result:\n",
    "<img src=\"./figures/test4.png\" width=\"500\">"
   ]
  },
  {
   "cell_type": "markdown",
   "metadata": {
    "hideCode": false,
    "hidePrompt": false
   },
   "source": [
    "Design variations __controlling the randomness__ of the tiles' aperture factor:"
   ]
  },
  {
   "cell_type": "markdown",
   "metadata": {
    "hideCode": false,
    "hidePrompt": false
   },
   "source": [
    "Controlled randomness: __central horizontal stain__.\n",
    "\n",
    "* Apperture factor is influenced by a sinusoidal wave, whose movement depends on the `x` coordinate of the corner of each tile.\n",
    "\n",
    "$$\n",
    "F_{aperture}(p) = sin \\left( \\frac{cx \\left(p \\right)}{10} \\times \\pi \\right) - 0.1\n",
    "$$"
   ]
  },
  {
   "cell_type": "code",
   "execution_count": null,
   "metadata": {
    "hideCode": false,
    "hidePrompt": false
   },
   "outputs": [],
   "source": [
    "@test begin\n",
    "    delete_all_shapes()\n",
    "    ptss = map_division(xz, 0, 10, 10, 0, 10, 10)\n",
    "    pattern.(polygonal_tile,\n",
    "         itera_2triangs_mirrorXY(ptss),\n",
    "         factor=pts->sin(pts[1][1].x/10*pi)-0.1)\n",
    "end"
   ]
  },
  {
   "cell_type": "markdown",
   "metadata": {
    "hideCode": false,
    "hidePrompt": false
   },
   "source": [
    "Expected result:\n",
    "<img src=\"./figures/test5.png\" width=\"500\">"
   ]
  },
  {
   "cell_type": "markdown",
   "metadata": {
    "hideCode": false,
    "hidePrompt": false
   },
   "source": [
    "Controlled randomness: __central stain__.\n",
    "\n",
    "* Aperture factor is influenced by a sinusoidal wave, whose movement depends on the `x` and `z` coordinates of the corner of each tile.\n",
    "\n",
    "$$\n",
    "F_{aperture}(p) = sin \\left( \\frac{cx \\left(p \\right)}{10} \\times \\pi \\right) \\times sin \\left( \\frac{cz \\left(p \\right)}{10} \\times \\pi \\right) - 0.1\n",
    "$$"
   ]
  },
  {
   "cell_type": "code",
   "execution_count": null,
   "metadata": {
    "hideCode": false,
    "hidePrompt": false
   },
   "outputs": [],
   "source": [
    "@test begin\n",
    "    delete_all_shapes()\n",
    "    ptss = map_division(xz, 0, 10, 10, 0, 10, 10)\n",
    "    pattern.(polygonal_tile,\n",
    "         itera_2triangs_mirrorXY(ptss),\n",
    "         factor=pts->sin(pts[1][1].x/10*pi)*sin(pts[1][1].z/10*pi)-0.1)\n",
    "end"
   ]
  },
  {
   "cell_type": "markdown",
   "metadata": {
    "hideCode": false,
    "hidePrompt": false
   },
   "source": [
    "Expected result:\n",
    "<img src=\"./figures/test6.png\" width=\"500\">"
   ]
  },
  {
   "cell_type": "markdown",
   "metadata": {
    "hideCode": false,
    "hidePrompt": false
   },
   "source": [
    "Controlled randomness: __horizontal increasing stain__.\n",
    "\n",
    "* Apperture factor is influenced by a sinusoidal wave, whose movement depends on the `x` coordinate of the corner of each tile.\n",
    "\n",
    "$$\n",
    "F_{aperture}(p) = sin \\left( \\frac{cx \\left(p \\right)}{10} \\times \\frac{\\pi}{2} \\right) - 0.1\n",
    "$$"
   ]
  },
  {
   "cell_type": "code",
   "execution_count": null,
   "metadata": {
    "hideCode": false,
    "hidePrompt": false
   },
   "outputs": [],
   "source": [
    "@test begin\n",
    "    delete_all_shapes()\n",
    "    ptss = map_division(xz, 0, 10, 10, 0, 10, 10)\n",
    "    pattern.(polygonal_tile,\n",
    "         itera_2triangs_mirrorXY(ptss),\n",
    "         factor=pts->sin(pts[1][1].x/10*(pi/2))-0.1)\n",
    "end"
   ]
  },
  {
   "cell_type": "markdown",
   "metadata": {
    "hideCode": false,
    "hidePrompt": false
   },
   "source": [
    "Expected result:\n",
    "<img src=\"./figures/test7.png\" width=\"500\">"
   ]
  },
  {
   "cell_type": "markdown",
   "metadata": {
    "hideCode": false,
    "hidePrompt": false
   },
   "source": [
    "### Standard building box test"
   ]
  },
  {
   "cell_type": "markdown",
   "metadata": {
    "hideCode": false,
    "hidePrompt": false
   },
   "source": [
    "Definition of the generic building box elements dimensions (m):"
   ]
  },
  {
   "cell_type": "code",
   "execution_count": null,
   "metadata": {
    "hideCode": false,
    "hidePrompt": false
   },
   "outputs": [],
   "source": [
    "column_width = 0.3\n",
    "wall_thickness = 0.3\n",
    "glass_wall_thickness = 0.01\n",
    "ext_glass_distance = 0.55"
   ]
  },
  {
   "cell_type": "markdown",
   "metadata": {
    "hideCode": false,
    "hidePrompt": false
   },
   "source": [
    "Definition of the building elements characteristics/family:"
   ]
  },
  {
   "cell_type": "code",
   "execution_count": null,
   "metadata": {
    "hideCode": false,
    "hidePrompt": false
   },
   "outputs": [],
   "source": [
    "top_slab_fam = slab_family_element(default_slab_family(), thickness=0.30)\n",
    "bottom_slab_fam = slab_family_element(default_slab_family(), thickness=0.01)\n",
    "wall_fam = wall_family_element(default_wall_family(), thickness=wall_thickness)\n",
    "glass_wall_fam = wall_family_element(default_wall_family(), thickness=glass_wall_thickness)\n",
    "column_fam = Khepri.column_family_element(default_column_family(), profile=rectangular_path(u0(), column_width, column_width));"
   ]
  },
  {
   "cell_type": "markdown",
   "metadata": {
    "hideCode": false,
    "hidePrompt": false
   },
   "source": [
    "Function that creates the building box: a simplification of the building geometry containing walls, slabs, and columns.\n",
    "\n",
    "__Parameters:__ Position, building height, length, and width.\n",
    "* Receives the (corner) position where to create the building box\n",
    "* Receives three dimensions defining the volume of the building box\n",
    "* Creates a 3D model composed of two slabs (ground and roof), four walls, and a structural column"
   ]
  },
  {
   "cell_type": "code",
   "execution_count": null,
   "metadata": {
    "hideCode": false,
    "hidePrompt": false
   },
   "outputs": [],
   "source": [
    "building_box(p0, height, length, width)=\n",
    "    let\n",
    "        p1=p0+vx(wall_thickness/2)\n",
    "        p2=p1+vy(width)\n",
    "        p3=p2+vxy(wall_thickness/2, -wall_thickness/2)\n",
    "        p4=p3+vx(length-wall_thickness)\n",
    "        p5=p1+vxy(wall_thickness/2)\n",
    "        p6=p5+vx(length-wall_thickness-ext_glass_distance)\n",
    "        p7=p4+vxy(-ext_glass_distance, -wall_thickness/2)\n",
    "    \n",
    "        slab_layer=create_layer(\"slab\")\n",
    "        wall_layer=create_layer(\"wall\")\n",
    "        glass_layer=create_layer(\"glass\")\n",
    "\n",
    "        Khepri.with(current_layer, slab_layer) do\n",
    "            slab(rectangular_path(p0, length, width), family=bottom_slab_fam)\n",
    "            slab(rectangular_path(p0+vz(height), length, width), family=top_slab_fam)\n",
    "        end\n",
    "        Khepri.with(current_layer, wall_layer) do\n",
    "            wall([p1, p2], top_level=height-wall_thickness, family=wall_fam)\n",
    "            wall([p3, p4], top_level=height-wall_thickness, family=wall_fam)\n",
    "            column(p0+vx(length-column_width), top_level=height, family=column_fam)\n",
    "        end\n",
    "        Khepri.with(current_layer, glass_layer) do\n",
    "            wall([p5, p6], top_level=height-wall_thickness, family=glass_wall_fam)\n",
    "            wall([p7, p6], top_level=height-wall_thickness, family=glass_wall_fam)\n",
    "        end\n",
    "    end"
   ]
  },
  {
   "cell_type": "markdown",
   "metadata": {
    "hideCode": false,
    "hidePrompt": false
   },
   "source": [
    "Definition of generic south and east facades dimensions:"
   ]
  },
  {
   "cell_type": "code",
   "execution_count": null,
   "metadata": {
    "hideCode": false,
    "hidePrompt": false
   },
   "outputs": [],
   "source": [
    "f_south_length = 13.05\n",
    "f_south_height = 3\n",
    "f_east_length = 9.85 + 0.3\n",
    "f_east_height = f_south_height"
   ]
  },
  {
   "cell_type": "code",
   "execution_count": null,
   "metadata": {
    "hideCode": false,
    "hidePrompt": false
   },
   "outputs": [],
   "source": [
    "function facade_test(min1=0.0, max1=0.9; n1=43, m=13, n2=32, opaqueness_factor=0.5)\n",
    "    facade_layer=create_layer(\"facade\")\n",
    "    set_random_seed(1234)\n",
    "    Khepri.with(current_layer, facade_layer) do\n",
    "        Khepri.with(current_cs, cs_from_o_vx_vy(x(-0.30), vx(1), vz(1))) do\n",
    "            s1= itera_2triangs_mirrorXY(map_division(xy, 0, f_south_length, n1, 0.3, f_south_height+0.3, m))\n",
    "            pattern.(polygonal_tile,\n",
    "                     s1,\n",
    "                     factor=pts->random_range(min1, sin(pts[1][1].x/f_south_length*pi)-(1-max1)))\n",
    "        end\n",
    "        Khepri.with(current_cs, cs_from_o_vx_vy(x(f_south_length-0.3), vy(1), vz(1))) do\n",
    "            s2 = map_division(xy, 0, f_east_length, n2, 0.3, f_east_height+0.3, m)\n",
    "            surface_grid(s2)\n",
    "      end\n",
    "    end\n",
    "end"
   ]
  },
  {
   "cell_type": "markdown",
   "metadata": {
    "hideCode": false,
    "hidePrompt": false
   },
   "source": [
    "### Vertical stain pattern distribution"
   ]
  },
  {
   "cell_type": "markdown",
   "metadata": {
    "hideCode": false,
    "hidePrompt": false
   },
   "source": [
    "__First pattern distribution choice__\n",
    "\n",
    "We first settled on the central vertical stain distribution option, which offers the central area of the facade more sunlight exposure. The aperture factor of the tiles increases from the outskirts of the façade to the middle, influenced by a half sinusoid cycle. The resulting effect leaves the service areas (located on the outmost corners of the building) with less natural light, hence easier to control thermally during daylight hours. The central façade area is reserved for office spaces who sacrifice better thermal control for better daylight illumination during working hours."
   ]
  },
  {
   "cell_type": "markdown",
   "metadata": {
    "hideCode": false,
    "hidePrompt": false
   },
   "source": [
    "| Plate engravings showing the tile grid on standard façade       |\n",
    "|---------------------------------------------------|\n",
    "| <img src=\"./figures/facade_concept.png\" width=\"800\">|\n",
    "\n",
    "| No engravings option hides the tile grid that guided the perforation pattern |\n",
    "|---------------------------------------------------|\n",
    "| <img src=\"./figures/facade_concept_no_engravings.png\" width=\"800\">|"
   ]
  },
  {
   "cell_type": "markdown",
   "metadata": {
    "hideCode": false,
    "hidePrompt": false
   },
   "source": [
    "The function `facade`creates a simple building box with both east and south facades. The soth façade shows the tile pattern whereas the east one has a simple surface only."
   ]
  },
  {
   "cell_type": "code",
   "execution_count": null,
   "metadata": {
    "hideCode": false,
    "hidePrompt": false
   },
   "outputs": [],
   "source": [
    "standard_box() = building_box(u0()+vxyz(-0.30, 0, 0.30), f_south_height, f_south_length, f_east_length)"
   ]
  },
  {
   "cell_type": "code",
   "execution_count": null,
   "metadata": {
    "hideCode": false,
    "hidePrompt": false
   },
   "outputs": [],
   "source": [
    "@test begin\n",
    "    backend(rhino)\n",
    "end"
   ]
  },
  {
   "cell_type": "code",
   "execution_count": null,
   "metadata": {
    "hideCode": false,
    "hidePrompt": false
   },
   "outputs": [],
   "source": [
    "@test begin\n",
    "    delete_all_shapes()\n",
    "    standard_box()\n",
    "    facade_test()\n",
    "end"
   ]
  },
  {
   "cell_type": "markdown",
   "metadata": {
    "hideCode": false,
    "hidePrompt": false
   },
   "source": [
    "Expected result:\n",
    "\n",
    "<img src=\"./figures/facade_test1.png\" width=\"600\">"
   ]
  },
  {
   "cell_type": "markdown",
   "metadata": {
    "hideCode": false,
    "hidePrompt": false
   },
   "source": [
    "Experimenting with bigger openings:"
   ]
  },
  {
   "cell_type": "code",
   "execution_count": null,
   "metadata": {
    "hideCode": false,
    "hidePrompt": false
   },
   "outputs": [],
   "source": [
    "@test begin\n",
    "    delete_all_shapes()\n",
    "    standard_box()\n",
    "    facade_test(0.3)\n",
    "end"
   ]
  },
  {
   "cell_type": "markdown",
   "metadata": {
    "hideCode": false,
    "hidePrompt": false
   },
   "source": [
    "Expected result:\n",
    "\n",
    "<img src=\"./figures/facade_test2.png\" width=\"600\">"
   ]
  },
  {
   "cell_type": "markdown",
   "metadata": {
    "hideCode": false,
    "hidePrompt": false
   },
   "source": [
    "Experimenting with even bigger openings:"
   ]
  },
  {
   "cell_type": "code",
   "execution_count": null,
   "metadata": {
    "hideCode": false,
    "hidePrompt": false
   },
   "outputs": [],
   "source": [
    "@test begin\n",
    "    delete_all_shapes()\n",
    "    standard_box()\n",
    "    facade_test(0.5,0.95)\n",
    "end"
   ]
  },
  {
   "cell_type": "markdown",
   "metadata": {
    "hideCode": false,
    "hidePrompt": false
   },
   "source": [
    "Expected result:\n",
    "\n",
    "<img src=\"./figures/facade_test3.png\" width=\"600\">"
   ]
  },
  {
   "cell_type": "markdown",
   "metadata": {
    "hideCode": false,
    "hidePrompt": false
   },
   "source": [
    "## Placing the tiled façade on site"
   ]
  },
  {
   "cell_type": "markdown",
   "metadata": {
    "hideCode": false,
    "hidePrompt": false
   },
   "source": [
    "This section presented the definition of the building elements, namely the pre-existing geometry before the façade intervention (building box) and the façade intervention:"
   ]
  },
  {
   "cell_type": "code",
   "execution_count": null,
   "metadata": {
    "hideCode": false,
    "hidePrompt": false
   },
   "outputs": [],
   "source": [
    "# Building dimentions\n",
    "n_floors = 11\n",
    "int_wall_thickness = 0.15\n",
    "slab_thickness = 0.3\n",
    "floor_height = 3\n",
    "default_level_to_level_height(floor_height + slab_thickness)\n",
    "\n",
    "# Number of rooms per floor\n",
    "n_rooms = 5"
   ]
  },
  {
   "cell_type": "markdown",
   "metadata": {
    "hideCode": false,
    "hidePrompt": false
   },
   "source": [
    "Automatically extract building corners from OpenStreetMap outline:"
   ]
  },
  {
   "cell_type": "code",
   "execution_count": null,
   "metadata": {
    "hideCode": false,
    "hidePrompt": false
   },
   "outputs": [],
   "source": [
    "building_path_pts = circshift(buildings_data_from_osm(\"map.osm\")[188][1][1:end-1], 1)"
   ]
  },
  {
   "cell_type": "code",
   "execution_count": null,
   "metadata": {
    "hideCode": false,
    "hidePrompt": false
   },
   "outputs": [],
   "source": [
    "# Pre-existing lot contour path (site plan)\n",
    "# openStreetMap manual correction of corners\n",
    "\n",
    "building_path = closed_polygonal_path(\n",
    "    [xyz(-17.502854,130.41505,0),\n",
    "     xyz(-23.450086,159.78842,0),\n",
    "     xyz(-40.379042,156.41009,0),\n",
    "     xyz(-38.727039,148.99827,0),\n",
    "     xyz(-48.752260,146.90023,0),\n",
    "     xyz(-46.187342,133.90089,0),\n",
    "     xyz(-36.388175,135.52159,0),\n",
    "     xyz(-34.910079,126.94048,0)])"
   ]
  },
  {
   "cell_type": "markdown",
   "metadata": {
    "hideCode": false,
    "hidePrompt": false
   },
   "source": [
    "### BIM families"
   ]
  },
  {
   "cell_type": "markdown",
   "metadata": {
    "hideCode": false,
    "hidePrompt": false
   },
   "source": [
    "This section contains the redefinition of the BIM families we plan to change from the defaults in Khepri, along with the chosen materials for each backend."
   ]
  },
  {
   "cell_type": "code",
   "execution_count": null,
   "metadata": {
    "hideCode": false,
    "hidePrompt": false
   },
   "outputs": [],
   "source": [
    "int_wall_fam = wall_family_element(default_wall_family(), thickness=int_wall_thickness)\n",
    "slab_fam = slab_family_element(default_slab_family(), thickness=slab_thickness)\n",
    "roof_fam = roof_family_element(default_roof_family(), thickness=0.20)\n",
    "window_fam(l) = window_family_element(default_window_family(), width=l-0.2, height=default_level_to_level_height()-0.5)\n",
    "\n",
    "tile_fam=panel_family_element(default_panel_family());"
   ]
  },
  {
   "cell_type": "markdown",
   "metadata": {
    "hideCode": false,
    "hidePrompt": false
   },
   "source": [
    "Materials for __Unity__ backend:"
   ]
  },
  {
   "cell_type": "code",
   "execution_count": null,
   "metadata": {
    "hideCode": false,
    "hidePrompt": false
   },
   "outputs": [],
   "source": [
    "set_backend_family(tile_fam, unity, unity_material_family(\"Default/Materials/White\"))"
   ]
  },
  {
   "cell_type": "markdown",
   "metadata": {
    "hideCode": false,
    "hidePrompt": false
   },
   "source": [
    "Materials for __Meshcat__ backend:"
   ]
  },
  {
   "cell_type": "code",
   "execution_count": null,
   "metadata": {
    "hideCode": false,
    "hidePrompt": false
   },
   "outputs": [],
   "source": [
    "set_backend_family(tile_fam, meshcat, meshcat_material_family(meshcat_material(RGB(1,1,1))))\n",
    "set_backend_family(roof_fam, meshcat, meshcat_material_family(meshcat_material(RGB(0.8,0.8,0.8))))"
   ]
  },
  {
   "cell_type": "markdown",
   "metadata": {
    "hideCode": false,
    "hidePrompt": false
   },
   "source": [
    "Materials for __POV-Ray__ backend:"
   ]
  },
  {
   "cell_type": "code",
   "execution_count": null,
   "metadata": {
    "hideCode": false,
    "hidePrompt": false
   },
   "outputs": [],
   "source": [
    "default_povray_material(povray_definition(\"Material\", \"texture\",\n",
    "    \"{ pigment { color rgb 0.2 } finish { reflection 0 ambient 0 }}\"))\n",
    "set_backend_family(tile_fam, povray, povray_material_family(povray_material(\"Tile\", gray=0.8)))\n",
    "set_backend_family(int_wall_fam, povray, povray_wall_family(povray_material(\"IntWall\", gray=0.8)))\n",
    "set_backend_family(slab_fam, povray, povray_slab_family(povray_material(\"Slab\", gray=0.8)))\n",
    "set_backend_family(roof_fam, povray, povray_roof_family(povray_material(\"Roof\", gray=0.9)))\n",
    "#set_backend_family(window_fam, povray, povray_material_family(povray_material(\"GenericCeiling80\", gray=0.5))"
   ]
  },
  {
   "cell_type": "markdown",
   "metadata": {
    "hideCode": false,
    "hidePrompt": false
   },
   "source": [
    "### BIM operations"
   ]
  },
  {
   "cell_type": "markdown",
   "metadata": {
    "hideCode": false,
    "hidePrompt": false
   },
   "source": [
    "The function `polygonal_tile` redefined to create 3D BIM elements (panel object) + in statement for minimum size openings:"
   ]
  },
  {
   "cell_type": "code",
   "execution_count": null,
   "metadata": {
    "hideCode": false,
    "hidePrompt": false
   },
   "outputs": [],
   "source": [
    "polygonal_tile(pts) =\n",
    "    (; factor=0.5) ->\n",
    "    let p = polygon_center(pts)\n",
    "        qts = [intermediate_loc(p,q,factor) for q in pts]\n",
    "        panel(pts, family=tile_fam, openings= Khepri.distance(qts[1], p) < 0.05 ? [] : [qts])\n",
    "    end"
   ]
  },
  {
   "cell_type": "code",
   "execution_count": null,
   "metadata": {
    "hideCode": false,
    "hidePrompt": false
   },
   "outputs": [],
   "source": [
    "@test begin\n",
    "    backend(meshcat)\n",
    "    render_size(800, 400)\n",
    "end"
   ]
  },
  {
   "cell_type": "code",
   "execution_count": null,
   "metadata": {
    "hideCode": false,
    "hidePrompt": false
   },
   "outputs": [],
   "source": [
    "@test begin\n",
    "    new_backend()\n",
    "    sleep(5)\n",
    "    @manipulate for f=widget(0.3:0.1:0.9, label=\"Aperture factor\")\n",
    "                delete_all_shapes()\n",
    "                polygonal_tile([x(0), x(1), xy(1,1), y(1)])(factor=f)\n",
    "                nothing\n",
    "    end\n",
    "end"
   ]
  },
  {
   "cell_type": "markdown",
   "metadata": {
    "hideCode": false,
    "hidePrompt": false
   },
   "source": [
    "Expected result:\n",
    "<img src=\"./figures/tile_3D.png\" width=\"900\">"
   ]
  },
  {
   "cell_type": "markdown",
   "metadata": {
    "hideCode": false,
    "hidePrompt": false
   },
   "source": [
    "New version of function `facade`, with parameters as input, and only generating a front facing façade for the pre-existing building:\n",
    "\n",
    "* Aperture factor is influenced by a sinusoidal wave, whose movement depends on the `x` coordinate of the corner of each tile.\n",
    "\n",
    "$$\n",
    "F_{aperture}(p) = random_{range} \\left \\{ \\begin{matrix} min_1 \\\\\n",
    "                    sin \\left( \\frac{cx \\left(p \\right)}{f_{length}} \\times \\pi \\right) - (1 - max_1)\n",
    "                    \\end{matrix} \\right.\n",
    "$$"
   ]
  },
  {
   "cell_type": "code",
   "execution_count": null,
   "metadata": {
    "hideCode": false,
    "hidePrompt": false
   },
   "outputs": [],
   "source": [
    "function facade_central_stain_tiles(origin, direction, length, height, min1=0.15, max1=0.9; n1=43, m=13)\n",
    "    facade_layer = create_layer(\"Facade_Tiles\")\n",
    "    set_random_seed(1234)\n",
    "    Khepri.with(current_layer, facade_layer) do\n",
    "        Khepri.with(current_cs, cs_from_o_vx_vy(origin+vx(0.1), direction, vz(1))) do\n",
    "            s1= itera_2triangs_mirrorXY(map_division(xy, 0, length, n1, 0, height, m))\n",
    "            pattern.(polygonal_tile,\n",
    "                     s1,\n",
    "                     factor=pts->random_range(min1, max(min1, sin(pts[1][1].x/length*π)-(1-max1))))\n",
    "        end\n",
    "    end\n",
    "end"
   ]
  },
  {
   "cell_type": "code",
   "execution_count": null,
   "metadata": {
    "hideCode": false,
    "hidePrompt": false
   },
   "outputs": [],
   "source": [
    "@test begin\n",
    "    backend(autocad)\n",
    "    delete_all_shapes()\n",
    "    pts = path_vertices(building_path)\n",
    "    pt1, pt2, pt3, pte = pts[[1, 2, 3, end]]\n",
    "    min1=0.15\n",
    "    max1=0.9\n",
    "    n1=43\n",
    "    m=13\n",
    "    facade_central_stain_tiles(pt1, pt2-pt1, 13, 3, min1, max1, n1=n1, m=m)\n",
    "    set_view(xyz(5.07,137.275,1.041), xyz(-18.692,137.275,1.041), 50.0)\n",
    "end"
   ]
  },
  {
   "cell_type": "code",
   "execution_count": null,
   "metadata": {},
   "outputs": [],
   "source": [
    "test_facade_central_stain_tiles() = \n",
    " begin\n",
    "    backend(autocad)\n",
    "    delete_all_shapes()\n",
    "    pts = path_vertices(building_path)\n",
    "    pt1, pt2, pt3, pte = pts[[1, 2, 3, end]]\n",
    "    min1=0.15\n",
    "    max1=0.9\n",
    "    n1=43\n",
    "    m=13\n",
    "    facade_central_stain_tiles(pt1, pt2-pt1, 13, 3, min1, max1, n1=n1, m=m)\n",
    "    set_view(xyz(5.07,137.275,1.041), xyz(-18.692,137.275,1.041), 50.0)\n",
    "end"
   ]
  },
  {
   "cell_type": "code",
   "execution_count": null,
   "metadata": {},
   "outputs": [],
   "source": [
    "@test begin\n",
    "    test_facade_central_stain_tiles()\n",
    "end"
   ]
  },
  {
   "cell_type": "markdown",
   "metadata": {
    "hideCode": false,
    "hidePrompt": false
   },
   "source": [
    "Expected result:\n",
    "<img src=\"./figures/distribution1.png\" width=\"900\">"
   ]
  },
  {
   "cell_type": "markdown",
   "metadata": {
    "hideCode": false,
    "hidePrompt": false
   },
   "source": [
    "### Refactoring Façade Tiles Function"
   ]
  },
  {
   "cell_type": "markdown",
   "metadata": {},
   "source": [
    "As we are going to tests several design variants, we now generalize the `facade_tiles` function."
   ]
  },
  {
   "cell_type": "code",
   "execution_count": null,
   "metadata": {},
   "outputs": [],
   "source": [
    "function facade_tiles(factor, origin, direction, length, height; n1=43, m=13)\n",
    "    facade_layer = create_layer(\"Facade_Tiles\")\n",
    "    set_random_seed(1234)\n",
    "    Khepri.with(current_layer, facade_layer) do\n",
    "        Khepri.with(current_cs, cs_from_o_vx_vy(origin+vx(0.1), direction, vz(1))) do\n",
    "            s1= itera_2triangs_mirrorXY(map_division(xy, 0, length, n1, 0, height, m))\n",
    "            pattern.(polygonal_tile,\n",
    "                     s1,\n",
    "                     factor=factor)\n",
    "        end\n",
    "    end\n",
    "end"
   ]
  },
  {
   "cell_type": "code",
   "execution_count": null,
   "metadata": {},
   "outputs": [],
   "source": [
    "test_facade_tiles(factor) = \n",
    " begin\n",
    "    backend(autocad)\n",
    "    delete_all_shapes()\n",
    "    pts = path_vertices(building_path)\n",
    "    pt1, pt2, pt3, pte = pts[[1, 2, 3, end]]\n",
    "    min1=0.15\n",
    "    max1=0.9\n",
    "    n1=43\n",
    "    m=13\n",
    "    facade_tiles(factor(min1, max1, m), pt1, pt2-pt1, 13, 3, min1, max1, n1=n1, m=m)\n",
    "    set_view(xyz(5.07,137.275,1.041), xyz(-18.692,137.275,1.041), 50.0)\n",
    "end"
   ]
  },
  {
   "cell_type": "code",
   "execution_count": null,
   "metadata": {},
   "outputs": [],
   "source": [
    "@test begin\n",
    "    test_facade_tiles((min1,max1,length)->pts->random_range(min1, max(min1, sin(pts[1][1].x/length*π)-(1-max1))))\n",
    "end"
   ]
  },
  {
   "cell_type": "markdown",
   "metadata": {
    "hideCode": false,
    "hidePrompt": false
   },
   "source": [
    "Expected result (refactoring process should yield the same result as previous function):\n",
    "<img src=\"./figures/distribution1.png\" width=\"900\">"
   ]
  },
  {
   "cell_type": "markdown",
   "metadata": {
    "hideCode": false,
    "hidePrompt": false
   },
   "source": [
    "### Multiple stains pattern distribution"
   ]
  },
  {
   "cell_type": "markdown",
   "metadata": {
    "hideCode": false,
    "hidePrompt": false
   },
   "source": [
    "| Hand-made drawing of the second pattern distribution option: multiple vertical stains |\n",
    "|---------------------------------------------------|\n",
    "| <img src=\"./figures/new_distribution_sketch.jpg\" width=\"700\"> |"
   ]
  },
  {
   "cell_type": "markdown",
   "metadata": {
    "hideCode": false,
    "hidePrompt": false
   },
   "source": [
    "__Second pattern distribution choice__\n",
    "\n",
    "After some preliminary analysis we concluded the light coming into the service spaces and corner offices was not enough for our standard metrics and we changed the distribution to accommodate the same design effect but several times along the façade's width. Specifically, we indented the sinusoidal wavelength to match the number of large office division inside, so that each big room could appreciate the fading effect from the inside in its entirety."
   ]
  },
  {
   "cell_type": "markdown",
   "metadata": {},
   "source": [
    "_old mathematical expression for aperture pattern:_\n",
    "\n",
    "$$\n",
    "F_{aperture}(p) = random_{range} \\left \\{ \\begin{matrix} min_1 \\\\\n",
    "                    sin \\left( \\frac{cx \\left(p \\right)}{f_{length}} \\times \\pi \\right) - (1 - max_1)\n",
    "                    \\end{matrix} \\right.\n",
    "$$"
   ]
  },
  {
   "cell_type": "code",
   "execution_count": null,
   "metadata": {},
   "outputs": [],
   "source": [
    "@test begin\n",
    "    test_facade_tiles((min1,max1,length)->\n",
    "        pts->random_range(min1, max(min1, sin(pts[1][1].x/length*π)-(1-max1))))\n",
    "end"
   ]
  },
  {
   "cell_type": "markdown",
   "metadata": {},
   "source": [
    "Expected result:\n",
    "<img src=\"./figures/distribution1.png\" width=\"900\">"
   ]
  },
  {
   "cell_type": "markdown",
   "metadata": {
    "hideCode": false,
    "hidePrompt": false
   },
   "source": [
    "_new mathematical expression for aperture pattern:_\n",
    "\n",
    "$$\n",
    "F_{aperture}(p) = random_{range} \\left \\{ \\begin{matrix} min_1 \\\\\n",
    "                    \\left | sin \\left( \\frac{cx \\left(p \\right)}{f_{length}} \\times n_{rooms} \\times \\pi \\right) \\right | - (1 - max_1)\n",
    "                    \\end{matrix} \\right.\n",
    "$$"
   ]
  },
  {
   "cell_type": "code",
   "execution_count": null,
   "metadata": {
    "hideCode": false,
    "hidePrompt": false
   },
   "outputs": [],
   "source": [
    "@test begin\n",
    "    test_facade_tiles((min1,max1,length)->\n",
    "        pts->random_range(min1, max(min1, (abs ∘ sin)(pts[1][1].x/length*n_rooms*π)-(1-max1))))\n",
    "end"
   ]
  },
  {
   "cell_type": "markdown",
   "metadata": {
    "hideCode": false,
    "hidePrompt": false
   },
   "source": [
    "Expected result:\n",
    "<img src=\"./figures/distribution2.png\" width=\"900\">"
   ]
  },
  {
   "cell_type": "markdown",
   "metadata": {
    "hideCode": false,
    "hidePrompt": false
   },
   "source": [
    "## Complete building"
   ]
  },
  {
   "cell_type": "markdown",
   "metadata": {
    "hideCode": false,
    "hidePrompt": false
   },
   "source": [
    "The `building` function generates the entire building lot with the new façade in place:"
   ]
  },
  {
   "cell_type": "code",
   "execution_count": null,
   "metadata": {
    "hideCode": false,
    "hidePrompt": false
   },
   "outputs": [],
   "source": [
    "building(slab_path=building_path, min1=0.15, max1=0.9; n1=43, m=13) =\n",
    "    let pts = path_vertices(slab_path) # Building plan contour path vertices\n",
    "        pt1, pt2, pt3, pte = pts[[1, 2, 3, end]]\n",
    "        b1 = intermediate_loc(pt1, pte, 0.5)\n",
    "        b2 = intermediate_loc(pt2, pt3, 0.5)\n",
    "        f_length = Khepri.distance(pts[1:2]...)\n",
    "        f_height = default_level_to_level_height() * n_floors + roof_fam.thickness\n",
    "        default_level(0)\n",
    "        for i in 1:n_floors\n",
    "            slab(slab_path, family=slab_fam)\n",
    "            add_window(wall(slab_path), xy(0.1, 0.1), window_fam(f_length))\n",
    "            wall([b1, b2], family=int_wall_fam)\n",
    "            for ϵ in division(0, 1, n_rooms)[2:end-1]\n",
    "                wall([intermediate_loc(b1, b2, ϵ), intermediate_loc(pt1, pt2, ϵ)], family=int_wall_fam)\n",
    "            end\n",
    "            default_level(upper_level())\n",
    "        end\n",
    "        roof(slab_path, family=roof_fam)\n",
    "        facade_tiles(pt1, pt2-pt1, f_length, f_height, min1, max1, n1=n1, m=m)\n",
    "    end"
   ]
  },
  {
   "cell_type": "code",
   "execution_count": null,
   "metadata": {
    "hideCode": false,
    "hidePrompt": false
   },
   "outputs": [],
   "source": [
    "@test begin\n",
    "    backend(autocad)\n",
    "    delete_all_shapes()\n",
    "    building()\n",
    "end;"
   ]
  },
  {
   "cell_type": "markdown",
   "metadata": {
    "hideCode": false,
    "hidePrompt": false
   },
   "source": [
    "Expected result:\n",
    "\n",
    "| Plan view in AutoCAD                                | Conceptual elevation in AutoCAD                 |\n",
    "|-----------------------------------------------------|-------------------------------------------------|\n",
    "| <img src=\"./figures/building_plan.png\" width=\"400\"> | <img src=\"./figures/building_m.png\" width=\"400\">|"
   ]
  },
  {
   "cell_type": "markdown",
   "metadata": {
    "hideCode": false,
    "hidePrompt": false
   },
   "source": [
    "Restricting `m`'s size to match that of `n`. This constrain forces the tiles to have a squared shape."
   ]
  },
  {
   "cell_type": "code",
   "execution_count": null,
   "metadata": {
    "hideCode": false,
    "hidePrompt": false
   },
   "outputs": [],
   "source": [
    "building(slab_path=building_path, min1=0.15, max1=0.9; n1=43) =\n",
    "    let pts = path_vertices(slab_path) \n",
    "        pt1, pt2, pt3, pte = pts[[1, 2, 3, end]]\n",
    "        b1 = intermediate_loc(pt1, pte, 0.5)\n",
    "        b2 = intermediate_loc(pt2, pt3, 0.5)\n",
    "        f_length = Khepri.distance(pts[1:2]...)\n",
    "        f_height = default_level_to_level_height() * n_floors + roof_fam.thickness\n",
    "        n = f_length / n1\n",
    "        m = floor(f_height / n)\n",
    "        default_level(0)\n",
    "        for i in 1:n_floors\n",
    "            slab(slab_path, family=slab_fam) # slabs\n",
    "\n",
    "            with_wall(slab_path) do w\n",
    "              add_window(w, xy(0.1, 0.1), window_fam(f_length)) # contour walls + windows\n",
    "            end\n",
    "\n",
    "            wall([b1, b2], family=int_wall_fam) # interior back wall\n",
    "            for ϵ in division(0, 1, n_rooms)[2:end-1] # interior office walls\n",
    "                wall([intermediate_loc(b1, b2, ϵ), intermediate_loc(pt1, pt2, ϵ)], family=int_wall_fam)\n",
    "            end\n",
    "            default_level(upper_level())\n",
    "        end\n",
    "        roof(slab_path, family=roof_fam) # roof slab\n",
    "        facade_tiles(pt1, pt2-pt1, f_length, f_height, min1, max1, n1=n1, m=m) # façade\n",
    "    end"
   ]
  },
  {
   "cell_type": "code",
   "execution_count": null,
   "metadata": {
    "hideCode": false,
    "hidePrompt": false
   },
   "outputs": [],
   "source": [
    "@test begin\n",
    "    backend(rhino)\n",
    "    @manipulate for n_rooms_widget=widget(2:1:10, label=\"Number of rooms\"),\n",
    "                min_op=widget(0.1:0.05:0.85, label=\"Miminum opening\"),\n",
    "                max_op=widget(0.3:0.05:0.95, label=\"Maximum opening\"),\n",
    "                n=widget(2:1:50, label=\"Number of horizontal panels\")\n",
    "                n_rooms = n_rooms_widget[]\n",
    "                delete_all_shapes()\n",
    "                set_view(xyz(33.55,117.28,19.60), xyz(32.60,117.58,19.58), 30)\n",
    "                building(building_path, min_op, max_op, n1=n)\n",
    "                nothing\n",
    "            end\n",
    "end"
   ]
  },
  {
   "cell_type": "markdown",
   "metadata": {
    "hideCode": false,
    "hidePrompt": false
   },
   "source": [
    "Expected result:\n",
    "<img src=\"./figures/building_interact.png\" width=\"900\">"
   ]
  },
  {
   "cell_type": "code",
   "execution_count": null,
   "metadata": {
    "hideCode": false,
    "hidePrompt": false
   },
   "outputs": [],
   "source": [
    "# restore n_rooms value\n",
    "n_rooms = 5"
   ]
  },
  {
   "cell_type": "code",
   "execution_count": null,
   "metadata": {
    "hideCode": false,
    "hidePrompt": false
   },
   "outputs": [],
   "source": [
    "@test begin; backend(meshcat); render_size(1200, 1600); new_backend(); end;"
   ]
  },
  {
   "cell_type": "code",
   "execution_count": null,
   "metadata": {
    "hideCode": false,
    "hidePrompt": false
   },
   "outputs": [],
   "source": [
    "@test begin; delete_all_shapes(); building(); end;"
   ]
  },
  {
   "cell_type": "markdown",
   "metadata": {
    "hideCode": false,
    "hidePrompt": false
   },
   "source": [
    "Expected result:\n",
    "<img src=\"./figures/meshcat_building.png\" width=\"800\">"
   ]
  },
  {
   "cell_type": "code",
   "execution_count": null,
   "metadata": {
    "hideCode": false,
    "hidePrompt": false
   },
   "outputs": [],
   "source": [
    "@test begin\n",
    "    backend(autocad)\n",
    "    delete_all_shapes()\n",
    "    building()\n",
    "end;"
   ]
  },
  {
   "cell_type": "markdown",
   "metadata": {
    "hideCode": false,
    "hidePrompt": false
   },
   "source": [
    "Expected result:\n",
    "\n",
    "| Elevation in AutoCAD with visible tile edges        | Elevation in AutoCAD with no tile contour       |\n",
    "|-----------------------------------------------------|-------------------------------------------------|\n",
    "| <img src=\"./figures/building_n_m.png\" width=\"400\"> | <img src=\"./figures/building_n_m_realistic.png\" width=\"400\">|"
   ]
  },
  {
   "cell_type": "code",
   "execution_count": null,
   "metadata": {
    "hideCode": false,
    "hidePrompt": false
   },
   "outputs": [],
   "source": [
    "@test begin\n",
    "    backend(rhino)\n",
    "    delete_all_shapes()\n",
    "    building()\n",
    "end;"
   ]
  },
  {
   "cell_type": "markdown",
   "metadata": {
    "hideCode": false,
    "hidePrompt": false
   },
   "source": [
    "Expected result:\n",
    "\n",
    "| Plate engravings showing the multiple stain tile grid in Rhino |\n",
    "|--------------------------------------------------|\n",
    "| <img src=\"./figures/with_lines.png\" width=\"750\"> | \n",
    "\n",
    "|  No engravings option hides the multiple stain tile grid in Rhino |\n",
    "|---------------------------------------------------|\n",
    "|<img src=\"./figures/without_lines.png\" width=\"750\">|"
   ]
  },
  {
   "cell_type": "markdown",
   "metadata": {
    "hideCode": false,
    "hidePrompt": false
   },
   "source": [
    "## Generate building + entire site"
   ]
  },
  {
   "cell_type": "markdown",
   "metadata": {
    "hideCode": false,
    "hidePrompt": false
   },
   "source": [
    "Site surroundings 3D buildings from OpenStreetMap:"
   ]
  },
  {
   "cell_type": "code",
   "execution_count": null,
   "metadata": {
    "hideCode": false,
    "hidePrompt": false
   },
   "outputs": [],
   "source": [
    "surroundings() = osm_building.(buildings_data_from_osm(\"map.osm\")[1:end .!= 188])"
   ]
  },
  {
   "cell_type": "code",
   "execution_count": null,
   "metadata": {
    "hideCode": false,
    "hidePrompt": false
   },
   "outputs": [],
   "source": [
    "@test begin\n",
    "    backend(meshcat)\n",
    "    render_size(800, 400)\n",
    "    new_backend()\n",
    "    end;"
   ]
  },
  {
   "cell_type": "code",
   "execution_count": null,
   "metadata": {
    "hideCode": false,
    "hidePrompt": false
   },
   "outputs": [],
   "source": [
    "@test begin\n",
    "    delete_all_shapes()\n",
    "    current_layer(create_layer(\"surroundings\", true, RGB(0.8,0.8,0.8))) # sourroundigns color\n",
    "    surroundings()\n",
    "    building()\n",
    "    end;"
   ]
  },
  {
   "cell_type": "markdown",
   "metadata": {
    "hideCode": false,
    "hidePrompt": false
   },
   "source": [
    "Expected result:\n",
    "\n",
    "<img src=\"./figures/meshcat_building_sur.png\" width=\"800\">"
   ]
  },
  {
   "cell_type": "markdown",
   "metadata": {
    "hideCode": false,
    "hidePrompt": false
   },
   "source": [
    "# Analysis"
   ]
  },
  {
   "cell_type": "markdown",
   "metadata": {
    "hideCode": false,
    "hidePrompt": false
   },
   "source": [
    "## Façade for Simulation"
   ]
  },
  {
   "cell_type": "code",
   "execution_count": null,
   "metadata": {
    "hideCode": false,
    "hidePrompt": false
   },
   "outputs": [],
   "source": [
    "sim_dir = joinpath(pwd(), \"scripts\")"
   ]
  },
  {
   "cell_type": "markdown",
   "metadata": {
    "hideCode": false,
    "hidePrompt": false
   },
   "source": [
    "__Trigger Simulation Functions__"
   ]
  },
  {
   "cell_type": "code",
   "execution_count": null,
   "metadata": {
    "hideCode": false,
    "hidePrompt": false
   },
   "outputs": [],
   "source": [
    "wait_and_read_file(results_path, tries=100, wait=20) =\n",
    "  if tries==0\n",
    "    @error(\"Could not read the results file $(results_path)\")\n",
    "  else\n",
    "    if ispath(results_path)\n",
    "      sleep(1) # It might still be writing\n",
    "      open(results_path) do f\n",
    "        readlines(f)\n",
    "      end\n",
    "    else\n",
    "      sleep(wait)\n",
    "      wait_and_read_file(results_path, tries-1, wait)\n",
    "    end\n",
    " end"
   ]
  },
  {
   "cell_type": "code",
   "execution_count": null,
   "metadata": {
    "hideCode": false,
    "hidePrompt": false
   },
   "outputs": [],
   "source": [
    "trigger_simulation(trigger_path, results_path) =\n",
    "  begin\n",
    "    rm(results_path, force=true)\n",
    "    touch(trigger_path)\n",
    "    wait_and_read_file(results_path)\n",
    "  end"
   ]
  },
  {
   "cell_type": "markdown",
   "metadata": {
    "hideCode": false,
    "hidePrompt": false
   },
   "source": [
    "__Prepare for Simulation__"
   ]
  },
  {
   "cell_type": "markdown",
   "metadata": {
    "hideCode": false,
    "hidePrompt": false
   },
   "source": [
    "For the simulation, we used Rhino in combination with a Grasshopper program using DIVA to calculate the desired daylight metrics, in our case ASE, sDA and sUDI."
   ]
  },
  {
   "cell_type": "markdown",
   "metadata": {},
   "source": [
    "`analysis_surface`: Function to select the desired room in a specific room."
   ]
  },
  {
   "cell_type": "code",
   "execution_count": null,
   "metadata": {},
   "outputs": [],
   "source": [
    "analysis_surface(; slab_path=building_path, floor_idx=5, room_idx=3) =\n",
    "    let analysis_layer = create_layer(\"Floor\")\n",
    "        pts = path_vertices(slab_path) # Building plan contour path vertices\n",
    "        pt1, pt2, pt3, pte = pts[[1, 2, 3, end]]\n",
    "        b1 = intermediate_loc(pt1, pte, 0.5)\n",
    "        b2 = intermediate_loc(pt2, pt3, 0.5)\n",
    "        f_length = Khepri.distance(pts[1:2]...)\n",
    "        f_height = default_level_to_level_height() * n_floors + roof_fam.thickness\n",
    "        δ = 0.2\n",
    "        ϵs = division(0, 1, n_rooms)[room_idx:room_idx+1]\n",
    "        pa = intermediate_loc(b1, b2, ϵs[1])\n",
    "        pb = intermediate_loc(pt1, pt2, ϵs[1])\n",
    "        pc = intermediate_loc(pt1, pt2, ϵs[2])\n",
    "        pd = intermediate_loc(b1, b2, ϵs[2])\n",
    "        path = offset(translate(closed_polygonal_path([pa, pb, pc, pd]), vz((floor_idx-1)*default_level_to_level_height()+0.05)), δ)\n",
    "        Khepri.with(current_layer, analysis_layer) do \n",
    "            fill(path)\n",
    "        end\n",
    "    end"
   ]
  },
  {
   "cell_type": "markdown",
   "metadata": {},
   "source": [
    "`facade_tiles_vis`: Function that generates only the façade in the correct layer."
   ]
  },
  {
   "cell_type": "code",
   "execution_count": null,
   "metadata": {
    "hideCode": false,
    "hidePrompt": false
   },
   "outputs": [],
   "source": [
    "facade_tiles_vis(slab_path=building_path; min1=0.0, max1=0.9, n1=43)=\n",
    "    let facade_layer = create_layer(\"Facade_Tiles\")\n",
    "        pts = path_vertices(slab_path)\n",
    "        pt1, pt2 = pts[[1, 2]]\n",
    "        f_length = Khepri.distance(pts[1:2]...)\n",
    "        n = f_length / n1\n",
    "        f_height = default_level_to_level_height() * n_floors + roof_fam.thickness\n",
    "        m = floor(f_height / n)\n",
    "        delete_all_shapes_in_layer(facade_layer)\n",
    "        facade_tiles(pt1, pt2-pt1, f_length, f_height, min1, max1, n1=n1, m=m)\n",
    "    end"
   ]
  },
  {
   "cell_type": "markdown",
   "metadata": {},
   "source": [
    "`facade_tiles_sim`: Function that generates the façade and then triggers the simulation for ASE, sDA and sUDI."
   ]
  },
  {
   "cell_type": "code",
   "execution_count": null,
   "metadata": {
    "hideCode": false,
    "hidePrompt": false
   },
   "outputs": [],
   "source": [
    "facade_tiles_sim(slab_path=building_path; min1=0.0, max1=0.9, n1=43)=\n",
    "    begin facade_tiles_vis(min1=min1, max1=max1, n1=n1)\n",
    "\n",
    "        res = trigger_simulation(joinpath(sim_dir, \"start.txt\"),\n",
    "                                 joinpath(sim_dir, \"results.txt\"))\n",
    "        println(res)\n",
    "        res[1] == \"None\" ? [100000.0, -100000.0, 1.0] : parse.(Float64, res)\n",
    "    end"
   ]
  },
  {
   "cell_type": "markdown",
   "metadata": {
    "hideCode": false,
    "hidePrompt": false
   },
   "source": [
    "## Analysis Results"
   ]
  },
  {
   "cell_type": "code",
   "execution_count": null,
   "metadata": {},
   "outputs": [],
   "source": [
    "@test begin\n",
    "    backend(rhino)\n",
    "end"
   ]
  },
  {
   "cell_type": "markdown",
   "metadata": {},
   "source": [
    "For the analysis part we simulated the daylight each room of 3 different floors (2st, 7th and 11th) received.\n",
    "\n",
    "The metric chosen to address this was the Useful Daylight Illuminance (UDI), and we presented the results for UDI 300-3000 lux, as well as the overlit and underlit UDI."
   ]
  },
  {
   "cell_type": "markdown",
   "metadata": {},
   "source": [
    "### Analysis 1"
   ]
  },
  {
   "cell_type": "markdown",
   "metadata": {},
   "source": [
    "* __Min Aperture__ = 0.15 meters and __N__ = 40"
   ]
  },
  {
   "cell_type": "markdown",
   "metadata": {},
   "source": [
    "| Corresponding façade.                              |\n",
    "|----------------------------------------------------|\n",
    "| <img src=\"./figures/sim01_facade.png\" width=\"400\"> |"
   ]
  },
  {
   "cell_type": "code",
   "execution_count": null,
   "metadata": {},
   "outputs": [],
   "source": [
    "@test begin\n",
    "    delete_all_shapes_in_layer(\"Floor\")\n",
    "    for i in 1:n_rooms\n",
    "        analysis_surface(floor_idx=2, room_idx=i)\n",
    "    end\n",
    "    facade_tiles_sim(min1=0.15, n1=40)\n",
    "end;"
   ]
  },
  {
   "cell_type": "markdown",
   "metadata": {},
   "source": [
    "| 2nd Floor: Results for UDI 300-3000 lux             |\n",
    "|-----------------------------------------------------|\n",
    "| <img src=\"./figures/sim01_f01_UDI.png\" width=\"750\"> |\n",
    "\n",
    "\n",
    "| 2nd Floor: Results for UDI 0-300 lux \\| Underlit          | 2nd Floor: Results for UDI 3000 lux < \\| Overlit         |\n",
    "|-----------------------------------------------------------|----------------------------------------------------------|\n",
    "| <img src=\"./figures/sim01_f01_UDI_under.png\" width=\"500\"> | <img src=\"./figures/sim01_f01_UDI_over.png\" width=\"500\"> |"
   ]
  },
  {
   "cell_type": "code",
   "execution_count": null,
   "metadata": {},
   "outputs": [],
   "source": [
    "@test begin\n",
    "    delete_all_shapes_in_layer(\"Floor\")\n",
    "    for i in 1:n_rooms\n",
    "        analysis_surface(floor_idx=7, room_idx=i)\n",
    "    end\n",
    "    facade_tiles_sim(min1=0.15, n1=40)\n",
    "end;"
   ]
  },
  {
   "cell_type": "markdown",
   "metadata": {},
   "source": [
    "| 7th Floor: Results for UDI 300-3000 lux            |\n",
    "|-----------------------------------------------------|\n",
    "| <img src=\"./figures/sim01_f06_UDI.png\" width=\"750\"> |\n",
    "\n",
    "\n",
    "| 7th Floor: Results for UDI 0-300 lux \\| Underlit         | 7th Floor: Results for UDI 3000 lux < \\| Overlit        |\n",
    "|-----------------------------------------------------------|----------------------------------------------------------|\n",
    "| <img src=\"./figures/sim01_f06_UDI_under.png\" width=\"500\"> | <img src=\"./figures/sim01_f06_UDI_over.png\" width=\"500\"> |"
   ]
  },
  {
   "cell_type": "code",
   "execution_count": null,
   "metadata": {
    "hideCode": false,
    "hidePrompt": false
   },
   "outputs": [],
   "source": [
    "@test begin\n",
    "    delete_all_shapes_in_layer(\"Floor\")\n",
    "    for i in 1:n_rooms\n",
    "        analysis_surface(floor_idx=n_floors, room_idx=i)\n",
    "    end\n",
    "    facade_tiles_sim(min1=0.15, n1=40)\n",
    "end;"
   ]
  },
  {
   "cell_type": "markdown",
   "metadata": {},
   "source": [
    "| 11th Floor: Results for UDI 300-3000 lux           |\n",
    "|-----------------------------------------------------|\n",
    "| <img src=\"./figures/sim01_f11_UDI.png\" width=\"750\"> |\n",
    "\n",
    "\n",
    "| 11th Floor: Results for UDI 0-300 lux \\| Underlit        | 11th Floor: Results for UDI 3000 lux < \\| Overlit       |\n",
    "|-----------------------------------------------------------|----------------------------------------------------------|\n",
    "| <img src=\"./figures/sim01_f11_UDI_under.png\" width=\"500\"> | <img src=\"./figures/sim01_f11_UDI_over.png\" width=\"500\"> | "
   ]
  },
  {
   "cell_type": "markdown",
   "metadata": {},
   "source": [
    "### Analysis 2"
   ]
  },
  {
   "cell_type": "markdown",
   "metadata": {
    "hideCode": false,
    "hidePrompt": false
   },
   "source": [
    "* __Min Aperture__ = 0.40 meters and __N__ = 10"
   ]
  },
  {
   "cell_type": "markdown",
   "metadata": {},
   "source": [
    "| Corresponding façade.                              |\n",
    "|----------------------------------------------------|\n",
    "| <img src=\"./figures/sim02_facade.png\" width=\"400\"> |"
   ]
  },
  {
   "cell_type": "code",
   "execution_count": null,
   "metadata": {},
   "outputs": [],
   "source": [
    "@test begin\n",
    "    delete_all_shapes_in_layer(\"Floor\")\n",
    "    for i in 1:n_rooms\n",
    "        analysis_surface(floor_idx=2, room_idx=i)\n",
    "    end\n",
    "    facade_tiles_sim(min1=0.40, n1=10)\n",
    "end;"
   ]
  },
  {
   "cell_type": "markdown",
   "metadata": {},
   "source": [
    "| 2st Floor: Results for UDI 300-3000 lux            |\n",
    "|-----------------------------------------------------|\n",
    "| <img src=\"./figures/sim02_f01_UDI.png\" width=\"750\"> |\n",
    "\n",
    "\n",
    "| 2st Floor: Results for UDI 0-300 lux \\| Underlit         | 2st Floor: Results for UDI 3000 lux < \\| Overlit        |\n",
    "|-----------------------------------------------------------|----------------------------------------------------------|\n",
    "| <img src=\"./figures/sim02_f01_UDI_under.png\" width=\"500\"> | <img src=\"./figures/sim01_f02_UDI_over.png\" width=\"500\"> |"
   ]
  },
  {
   "cell_type": "code",
   "execution_count": null,
   "metadata": {},
   "outputs": [],
   "source": [
    "@test begin\n",
    "    delete_all_shapes_in_layer(\"Floor\")\n",
    "    for i in 1:n_rooms\n",
    "        analysis_surface(floor_idx=7, room_idx=i)\n",
    "    end\n",
    "    facade_tiles_sim(min1=0.40, n1=10)\n",
    "end;"
   ]
  },
  {
   "cell_type": "markdown",
   "metadata": {},
   "source": [
    "| 7th Floor: Results for UDI 300-3000 lux            |\n",
    "|-----------------------------------------------------|\n",
    "| <img src=\"./figures/sim02_f06_UDI.png\" width=\"750\"> |\n",
    "\n",
    "\n",
    "| 7th Floor: Results for UDI 0-300 lux \\| Underlit         | 7th Floor: Results for UDI 3000 lux < \\| Overlit        |\n",
    "|-----------------------------------------------------------|----------------------------------------------------------|\n",
    "| <img src=\"./figures/sim02_f06_UDI_under.png\" width=\"500\"> | <img src=\"./figures/sim02_f06_UDI_over.png\" width=\"500\"> |"
   ]
  },
  {
   "cell_type": "code",
   "execution_count": null,
   "metadata": {
    "hideCode": false,
    "hidePrompt": false
   },
   "outputs": [],
   "source": [
    "@test begin\n",
    "    delete_all_shapes_in_layer(\"Floor\")\n",
    "    for i in 1:n_rooms\n",
    "        analysis_surface(floor_idx=n_floors, room_idx=i)\n",
    "    end\n",
    "    facade_tiles_sim(min1=0.40, n1=10)\n",
    "end;"
   ]
  },
  {
   "cell_type": "markdown",
   "metadata": {},
   "source": [
    "| 11th Floor: Results for UDI 300-3000 lux           |\n",
    "|-----------------------------------------------------|\n",
    "| <img src=\"./figures/sim02_f11_UDI.png\" width=\"750\"> |\n",
    "\n",
    "\n",
    "| 11th Floor: Results for UDI 0-300 lux \\| Underlit        | 11th Floor: Results for UDI 3000 lux < \\| Overlit       |\n",
    "|-----------------------------------------------------------|----------------------------------------------------------|\n",
    "| <img src=\"./figures/sim02_f11_UDI_under.png\" width=\"500\"> | <img src=\"./figures/sim02_f11_UDI_over.png\" width=\"500\"> | "
   ]
  },
  {
   "cell_type": "markdown",
   "metadata": {
    "hideCode": false,
    "hidePrompt": false
   },
   "source": [
    "# Optimization"
   ]
  },
  {
   "cell_type": "markdown",
   "metadata": {
    "hideCode": false,
    "hidePrompt": false
   },
   "source": [
    "Each one of the designed rooms has its own lighting conditions, meaning they should be analyzed individually to guarantee ideal conditions. However, for this work, we decided to optimize just one of them."
   ]
  },
  {
   "cell_type": "markdown",
   "metadata": {
    "hideCode": false,
    "hidePrompt": false
   },
   "source": [
    "| Room selected for optimization.                      |\n",
    "|------------------------------------------------------|\n",
    "| <img src=\"./figures/selected_room.png\" width=\"1000\"> | "
   ]
  },
  {
   "cell_type": "markdown",
   "metadata": {
    "hideCode": false,
    "hidePrompt": false
   },
   "source": [
    "The two metrics involved in the optimization process were Spatial Daylight Autonomy (sDA) and Annual Sun Exposure (ASE), and the objectives were:\n",
    "\n",
    "$$\n",
    "minimize \\rightarrow f(x_1, x_2) = ASE_{1000,250h}(x_1, x_2)\\\\\n",
    "maximize \\rightarrow g(x_1, x_2) = sDA_{300|50\\%} (x_1, x_2)\n",
    "$$\n",
    "\n",
    "\n",
    "x<sub>1</sub> and x<sub>2</sub> are the variables for our optimization problem, representing:\n",
    "the min value for openings x<sub>1</sub> ∈ {0.1, 0.15, …, 0.85}, \n",
    "and the spacing between the panels x<sub>2</sub> ∈ {10, 11, …, 50}.\n",
    "\n",
    "\n",
    "Finally, we tested the NSGA-II algorithm, with 250 solutions grouped in populations of 25."
   ]
  },
  {
   "cell_type": "markdown",
   "metadata": {
    "hideCode": false,
    "hidePrompt": false
   },
   "source": [
    "## Optimization Process"
   ]
  },
  {
   "cell_type": "markdown",
   "metadata": {
    "hideCode": false,
    "hidePrompt": false
   },
   "source": [
    "### Initial Population"
   ]
  },
  {
   "cell_type": "markdown",
   "metadata": {
    "hideCode": false,
    "hidePrompt": false
   },
   "source": [
    "Generates the initial population for the metaheuristic algorithms, based on the Latin Hypercube algorithm."
   ]
  },
  {
   "cell_type": "code",
   "execution_count": null,
   "metadata": {
    "hideCode": false,
    "hidePrompt": false
   },
   "outputs": [],
   "source": [
    "unscale(value, nmin, nmax, omin=0, omax=1) =\n",
    "       (value .- omin) ./ (omax - omin) .* (nmax - nmin) .+ nmin"
   ]
  },
  {
   "cell_type": "code",
   "execution_count": null,
   "metadata": {
    "hideCode": false,
    "hidePrompt": false
   },
   "outputs": [],
   "source": [
    "get_initial_population(variables, pop_ini) = begin\n",
    "    ADOPT.Sampling.set_seed!(12345)\n",
    "    X = ADOPT.latinHypercube(length(variables), pop_ini)\n",
    "    unscaled_X = zeros(size(X, 2), size(X, 1))\n",
    "\n",
    "    for (i, var) in (enumerate(variables))\n",
    "        unscaled_X[:, i] = unscale(X[i, :], ADOPT.lower_bound(var), ADOPT.upper_bound(var))\n",
    "    end\n",
    "    map(1:size(unscaled_X, 1)) do i\n",
    "        round.(unscaled_X[i, :])\n",
    "    end\n",
    "end"
   ]
  },
  {
   "cell_type": "markdown",
   "metadata": {
    "hideCode": false,
    "hidePrompt": false
   },
   "source": [
    "### Optimization Objectives and Variables"
   ]
  },
  {
   "cell_type": "markdown",
   "metadata": {
    "hideCode": false,
    "hidePrompt": false
   },
   "source": [
    "__Objectives__"
   ]
  },
  {
   "cell_type": "markdown",
   "metadata": {
    "hideCode": false,
    "hidePrompt": false
   },
   "source": [
    "* The `map_to_int` function receives an integer and scales it to the a real number, based on a step. This allows us to treat the optimization problem as a discrete one, and to have more control over the variables range.\n",
    "* `objective_ase` and `objective_sda` compute the ASE and sDA values, respectively."
   ]
  },
  {
   "cell_type": "code",
   "execution_count": null,
   "metadata": {
    "hideCode": false,
    "hidePrompt": false
   },
   "outputs": [],
   "source": [
    "global_objs = -1"
   ]
  },
  {
   "cell_type": "code",
   "execution_count": null,
   "metadata": {
    "hideCode": false,
    "hidePrompt": false
   },
   "outputs": [],
   "source": [
    "map_to_int(x, min, step=0.01) = min + step*x"
   ]
  },
  {
   "cell_type": "code",
   "execution_count": null,
   "metadata": {
    "hideCode": false,
    "hidePrompt": false
   },
   "outputs": [],
   "source": [
    "objective_ase((min_opening, n)) = let\n",
    "    min1 = map_to_int(min_opening, 0.1, 0.05)\n",
    "    global global_objs\n",
    "    global_objs=facade_tiles_sim(min1=min1, n1=n)\n",
    "    global_objs[2]\n",
    "end"
   ]
  },
  {
   "cell_type": "code",
   "execution_count": null,
   "metadata": {
    "hideCode": false,
    "hidePrompt": false
   },
   "outputs": [],
   "source": [
    "objective_sda(x)=global_objs[1]"
   ]
  },
  {
   "cell_type": "code",
   "execution_count": null,
   "metadata": {
    "hideCode": false,
    "hidePrompt": false
   },
   "outputs": [],
   "source": [
    "objs = [Objective(objective_ase, :MIN),\n",
    "        Objective((x) -> -1 * objective_sda(x), :MIN)]"
   ]
  },
  {
   "cell_type": "markdown",
   "metadata": {
    "hideCode": false,
    "hidePrompt": false
   },
   "source": [
    "__Variables__"
   ]
  },
  {
   "cell_type": "code",
   "execution_count": null,
   "metadata": {
    "hideCode": false,
    "hidePrompt": false
   },
   "outputs": [],
   "source": [
    "min_opening = IntVariable(0, 15) # [0.1 , 0.85, step=0.05]\n",
    "n = IntVariable(10, 50)"
   ]
  },
  {
   "cell_type": "code",
   "execution_count": null,
   "metadata": {
    "hideCode": false,
    "hidePrompt": false
   },
   "outputs": [],
   "source": [
    "vars = [min_opening, n]"
   ]
  },
  {
   "cell_type": "markdown",
   "metadata": {
    "hideCode": false,
    "hidePrompt": false
   },
   "source": [
    "### Optimization Setup"
   ]
  },
  {
   "cell_type": "code",
   "execution_count": null,
   "metadata": {
    "hideCode": false,
    "hidePrompt": false
   },
   "outputs": [],
   "source": [
    "res_dir = joinpath(pwd(), \"algorithms\")"
   ]
  },
  {
   "cell_type": "markdown",
   "metadata": {
    "hideCode": false,
    "hidePrompt": false
   },
   "source": [
    "__Metaheuristics__"
   ]
  },
  {
   "cell_type": "markdown",
   "metadata": {
    "hideCode": false,
    "hidePrompt": false
   },
   "source": [
    "Define the main parameters of the optimization:\n",
    "* number of runs: `nruns`\n",
    "* maximum number of evaluations: `maxevals`\n",
    "* number of iterations: `niterations`\n",
    "* population and initial population size: `nparticles` and `pop_ini`"
   ]
  },
  {
   "cell_type": "code",
   "execution_count": null,
   "metadata": {
    "hideCode": false,
    "hidePrompt": false
   },
   "outputs": [],
   "source": [
    "nruns = 1\n",
    "maxevals = 200\n",
    "niterations = 10\n",
    "nparticles = div(maxevals, niterations)\n",
    "pop_ini = nparticles"
   ]
  },
  {
   "cell_type": "markdown",
   "metadata": {
    "hideCode": false,
    "hidePrompt": false
   },
   "source": [
    "Define the optimization problem and the initial population."
   ]
  },
  {
   "cell_type": "code",
   "execution_count": null,
   "metadata": {
    "hideCode": false,
    "hidePrompt": false
   },
   "outputs": [],
   "source": [
    "problem = Model(vars, objs)\n",
    "initial_population = get_initial_population(vars, pop_ini)"
   ]
  },
  {
   "cell_type": "markdown",
   "metadata": {
    "hideCode": false,
    "hidePrompt": false
   },
   "source": [
    "Define the generator that will be used by the optimization algorithms to create the initial population."
   ]
  },
  {
   "cell_type": "code",
   "execution_count": null,
   "metadata": {
    "hideCode": false,
    "hidePrompt": false
   },
   "outputs": [],
   "source": [
    "generator = Dict(:name => ADOPT.Platypus.InjectedPopulation,\n",
    "                 :solutions => initial_population,\n",
    "                 :problem => problem)"
   ]
  },
  {
   "cell_type": "markdown",
   "metadata": {
    "hideCode": false,
    "hidePrompt": false
   },
   "source": [
    "Define the parameters for the metaheuristic algorithms."
   ]
  },
  {
   "cell_type": "code",
   "execution_count": null,
   "metadata": {
    "hideCode": false,
    "hidePrompt": false
   },
   "outputs": [],
   "source": [
    "EAs_params = Dict(:population_size => nparticles,\n",
    "                  :generator => generator)"
   ]
  },
  {
   "cell_type": "markdown",
   "metadata": {
    "hideCode": false,
    "hidePrompt": false
   },
   "source": [
    "Start Simulation:"
   ]
  },
  {
   "cell_type": "code",
   "execution_count": null,
   "metadata": {},
   "outputs": [],
   "source": [
    "# avoid_tests(false)"
   ]
  },
  {
   "cell_type": "code",
   "execution_count": null,
   "metadata": {},
   "outputs": [],
   "source": [
    "@test begin\n",
    "    backend(rhino)\n",
    "end"
   ]
  },
  {
   "cell_type": "code",
   "execution_count": null,
   "metadata": {
    "hideCode": false,
    "hidePrompt": false
   },
   "outputs": [],
   "source": [
    "@test begin\n",
    "    delete_all_shapes_in_layer(\"Floor\")\n",
    "    analysis_surface(floor_idx=8, room_idx=3)\n",
    "\n",
    "    ADOPT.with(ADOPT.results_dir, res_dir) do\n",
    "        benchmark(nruns=nruns,\n",
    "        algorithms=[(NSGAII, EAs_params)],\n",
    "        problem=problem, max_evals=maxevals)\n",
    "    end\n",
    "end"
   ]
  },
  {
   "cell_type": "markdown",
   "metadata": {
    "hideCode": false,
    "hidePrompt": false
   },
   "source": [
    "## Global Setup for Data Processing"
   ]
  },
  {
   "cell_type": "markdown",
   "metadata": {
    "hideCode": false,
    "hidePrompt": false
   },
   "source": [
    "Read the Julia file that contains the main functions for data processing and visualization."
   ]
  },
  {
   "cell_type": "code",
   "execution_count": null,
   "metadata": {
    "hideCode": false,
    "hidePrompt": false
   },
   "outputs": [],
   "source": [
    "include(\"scripts/optimization_main_functions.jl\")"
   ]
  },
  {
   "cell_type": "markdown",
   "metadata": {
    "hideCode": false,
    "hidePrompt": false
   },
   "source": [
    "Global constants for the data processing of the optimization results."
   ]
  },
  {
   "cell_type": "code",
   "execution_count": null,
   "metadata": {
    "hideCode": false,
    "hidePrompt": false
   },
   "outputs": [],
   "source": [
    "# Folders Structure\n",
    "base_folder = pwd()\n",
    "results_folder = joinpath(base_folder, \"algorithms\")\n",
    "\n",
    "# CSV File Configuration\n",
    "has_header = true\n",
    "files_sep = \",\"\n",
    "file_extension = \"csv\"\n",
    "\n",
    "# Optimization Settings\n",
    "runs = [1]\n",
    "nruns = length(runs)\n",
    "max_evals = 250\n",
    "\n",
    "## Problem Definition (in the files) \n",
    "### Variables\n",
    "min_opening = :min_opening\n",
    "n = :n\n",
    "vars_cols = [min_opening, n]\n",
    "\n",
    "### Objectives  \n",
    "ASE = :ASE\n",
    "sDA = :sDA\n",
    "objs_cols = [ASE, sDA]\n",
    "\n",
    "relevant_cols = vcat(vars_cols, objs_cols)\n",
    "\n",
    "names_mapping = (\n",
    "     4 => min_opening, \n",
    "     5 => n, \n",
    "     6 => ASE, \n",
    "     7 => sDA, \n",
    ")\n",
    "\n",
    "## Multi-Objective Optimization Algorithms\n",
    "### Metaheuristics\n",
    "pop_size = 25\n",
    "metaheuristics = [\"NSGAII\"]\n",
    "\n",
    "### Model-Based (or metamodel)\n",
    "metamodels_base = [\"GPR\"]\n",
    "metamodels_strategies = [\"SPEA2\"]\n",
    "metamodels_algorithms = [\"$(b)_$(s)\" for b in metamodels_base for s in metamodels_strategies]\n",
    "\n",
    "all_algorithms = metaheuristics\n",
    "# all_algorithms = vcat(metaheuristics, metamodels_algorithms)\n",
    "n_algorithms = length(all_algorithms)\n",
    "\n",
    "### Filenames with the results \n",
    "filenames = [\"$(a)_results_0$(r).$(file_extension)\" for r in runs for a in all_algorithms]\n",
    "filenames"
   ]
  },
  {
   "cell_type": "markdown",
   "metadata": {
    "hideCode": false,
    "hidePrompt": false
   },
   "source": [
    "### Interactive Pareto Front Function"
   ]
  },
  {
   "cell_type": "markdown",
   "metadata": {
    "hideCode": false,
    "hidePrompt": false
   },
   "source": [
    "`create_pfs` creates an interactive Pareto front that, when clicking in point of plot generates the corresponding façade tiling, based on the `facade_tiles_vis` function"
   ]
  },
  {
   "cell_type": "code",
   "execution_count": null,
   "metadata": {
    "hideCode": false,
    "hidePrompt": false
   },
   "outputs": [],
   "source": [
    "function create_pfs(pfs; x, y, draw_dominated=true,\n",
    "               names=all_algorithms, colorscale=\"viridis\", colors=nothing,\n",
    "               tpf=nothing, tpf_name=\"Combined_PF\", tpf_color=\"rgb(0,0,0)\",\n",
    "               layout=layout)\n",
    "\n",
    "    traces, custom_data = get_traces(pfs, x, y, draw_dominated, names, colorscale, colors, tpf, tpf_name, tpf_color, layout)\n",
    "\n",
    "    fig = PlotlyJS.plot([traces...], layout)\n",
    "\n",
    "    display(fig)\n",
    "    on(fig.scope[\"click\"]) do data\n",
    "        let subdata = data[\"points\"][1],\n",
    "            point_idx = subdata[\"pointIndex\"],\n",
    "            curve_idx = subdata[\"curveNumber\"],\n",
    "            info = custom_data[curve_idx + 1][point_idx + 1, :],\n",
    "            min_opening = info[:min_opening],\n",
    "            n = info[:n]\n",
    "\n",
    "          println(info)\n",
    "          facade_tiles_vis(min1=min_opening, n1=n)\n",
    "        end\n",
    "    end\n",
    "end"
   ]
  },
  {
   "cell_type": "markdown",
   "metadata": {
    "hideCode": false,
    "hidePrompt": false
   },
   "source": [
    "### Layout"
   ]
  },
  {
   "cell_type": "markdown",
   "metadata": {
    "hideCode": false,
    "hidePrompt": false
   },
   "source": [
    "Defines the layout in which the Pareto front plots will be displayed."
   ]
  },
  {
   "cell_type": "code",
   "execution_count": null,
   "metadata": {
    "hideCode": false,
    "hidePrompt": false
   },
   "outputs": [],
   "source": [
    "layout_tiling = Layout(\n",
    "    template=\"plotly_white\",\n",
    "    autosize=false,\n",
    "    # Define plot size\n",
    "    width=900, \n",
    "    height=540,\n",
    "    # Legend Position\n",
    "    # showlegend = False,\n",
    "    legend=Dict(\n",
    "        :orientation=>'h',\n",
    "        :x=>-0.01,\n",
    "        :y=>-0.2\n",
    "    ),\n",
    "\n",
    "    # Define axis\n",
    "    xaxis=Dict(\n",
    "        :title=>\"sDA\",\n",
    "        :autorange=>true,\n",
    "        :showgrid=>true,\n",
    "        :zeroline=>false,\n",
    "        :showline=>true,\n",
    "        :ticks=>\"\",\n",
    "        :showticklabels=>true,\n",
    "        :tickformat=>\".\"\n",
    "    ),\n",
    "  \n",
    "    yaxis=Dict(\n",
    "        :title=>\"ASE\",\n",
    "        :autorange=>true,        \n",
    "        :showgrid=>true,\n",
    "        :zeroline=>false,\n",
    "        :showline=>true,\n",
    "        :ticks=>\"\",\n",
    "        :showticklabels=>true,\n",
    "        :tickformat=>\".\"\n",
    "    )\n",
    ")"
   ]
  },
  {
   "cell_type": "markdown",
   "metadata": {
    "hideCode": false,
    "hidePrompt": false
   },
   "source": [
    "### Read Files"
   ]
  },
  {
   "cell_type": "code",
   "execution_count": null,
   "metadata": {
    "hideCode": false,
    "hidePrompt": false
   },
   "outputs": [],
   "source": [
    "# Read algorithms  \n",
    "dfs = load_results(filenames);"
   ]
  },
  {
   "cell_type": "code",
   "execution_count": null,
   "metadata": {
    "hideCode": false,
    "hidePrompt": false
   },
   "outputs": [],
   "source": [
    "dfs = [rename!(df, [map(x->x[2], names_mapping) ...]) for df in dfs];"
   ]
  },
  {
   "cell_type": "code",
   "execution_count": null,
   "metadata": {
    "hideCode": false,
    "hidePrompt": false
   },
   "outputs": [],
   "source": [
    "# Compute non_dominated_solutions (per run)\n",
    "pfs = [add_isdominated_cols(df) for df in dfs];"
   ]
  },
  {
   "cell_type": "code",
   "execution_count": null,
   "metadata": {
    "hideCode": false,
    "hidePrompt": false
   },
   "outputs": [],
   "source": [
    "# Computes combined Pareto Front (optimal solutions found from all the algorithms, all the runs)\n",
    "combined_pf = get_combined_PF(dfs, drop_cols=relevant_cols);"
   ]
  },
  {
   "cell_type": "code",
   "execution_count": null,
   "metadata": {
    "hideCode": false,
    "hidePrompt": false
   },
   "outputs": [],
   "source": [
    "# Run this cell only once!!!\n",
    "pfs = [unscale(pf, min_opening, 0.1, 0.05) for pf in pfs];"
   ]
  },
  {
   "cell_type": "code",
   "execution_count": null,
   "metadata": {
    "hideCode": false,
    "hidePrompt": false
   },
   "outputs": [],
   "source": [
    "# Sanity check!!!\n",
    "first(pfs[1], 6)"
   ]
  },
  {
   "cell_type": "code",
   "execution_count": null,
   "metadata": {
    "hideCode": false,
    "hidePrompt": false
   },
   "outputs": [],
   "source": [
    "# Since sDA is actually a maximization, let us use the symmetric operation \n",
    "pfs = [get_symmetric(pf, sDA) for pf in pfs]\n",
    "combined_pf = get_symmetric(combined_pf, sDA);"
   ]
  },
  {
   "cell_type": "code",
   "execution_count": null,
   "metadata": {
    "hideCode": false,
    "hidePrompt": false
   },
   "outputs": [],
   "source": [
    "S# Sort sDA values in ascending order\n",
    "\n",
    "# Run this cell only once!!!\n",
    "\n",
    "## This fixes the error we were getting in the create_pfs function,\n",
    "## which would return a different point than the one we selected\n",
    "\n",
    "pfs = [sort(pf, [sDA], rev=false) for pf in pfs];"
   ]
  },
  {
   "cell_type": "code",
   "execution_count": null,
   "metadata": {
    "hideCode": false,
    "hidePrompt": false
   },
   "outputs": [],
   "source": [
    "# Sanity check!!!\n",
    "first(pfs[1], 6)"
   ]
  },
  {
   "cell_type": "markdown",
   "metadata": {
    "hideCode": false,
    "hidePrompt": false
   },
   "source": [
    "##  LEED V4.1 Daylight Credit"
   ]
  },
  {
   "cell_type": "markdown",
   "metadata": {
    "hideCode": false,
    "hidePrompt": false
   },
   "source": [
    " To score in the LEED V4 Daylight Credit a solution must simultaneously meet the following requirements:\n",
    " \n",
    "$$ ASE < 20\\% \\\\ sDA \\geq\\ 40\\% $$"
   ]
  },
  {
   "cell_type": "markdown",
   "metadata": {
    "hideCode": false,
    "hidePrompt": false
   },
   "source": [
    "### Pareto Front Plot"
   ]
  },
  {
   "cell_type": "markdown",
   "metadata": {
    "hideCode": false,
    "hidePrompt": false
   },
   "source": [
    "Choose the backend to visualize the Pareto front solutions:"
   ]
  },
  {
   "cell_type": "code",
   "execution_count": null,
   "metadata": {
    "hideCode": false,
    "hidePrompt": false
   },
   "outputs": [],
   "source": [
    "backend(autocad)"
   ]
  },
  {
   "cell_type": "markdown",
   "metadata": {
    "hideCode": false,
    "hidePrompt": false
   },
   "source": [
    "Create interactive Pareto front plot:"
   ]
  },
  {
   "cell_type": "code",
   "execution_count": null,
   "metadata": {
    "hideCode": false,
    "hidePrompt": false,
    "scrolled": false
   },
   "outputs": [],
   "source": [
    "create_pfs(pfs, x=sDA, y=ASE, tpf=nothing, names=all_algorithms, \n",
    "           colorscale=nothing, colors=[\"#43a0b5\", \"#B5557A\", \"#eb911c\"],\n",
    "           draw_dominated=true, layout=layout_tiling)"
   ]
  },
  {
   "cell_type": "markdown",
   "metadata": {
    "hideCode": false,
    "hidePrompt": false
   },
   "source": [
    "| Resulting Pareto front from NSGA-II optimization process.                      |\n",
    "|------------------------------------------------------|\n",
    "| <img src=\"./figures/pareto_front.png\" width=\"1000\"> | "
   ]
  },
  {
   "cell_type": "markdown",
   "metadata": {
    "hideCode": false,
    "hidePrompt": false
   },
   "source": [
    "### Parallel Coordinates"
   ]
  },
  {
   "cell_type": "markdown",
   "metadata": {
    "hideCode": false,
    "hidePrompt": false
   },
   "source": [
    "To understand the impact the variables have in the overall performance, we also created a parallel coordinated plot and highlighted the solutions that score a LEED V4.1 Daylight Credit."
   ]
  },
  {
   "cell_type": "markdown",
   "metadata": {
    "hideCode": false,
    "hidePrompt": false
   },
   "source": [
    "__Color scales:__ https://plotly.com/javascript/colorscales/"
   ]
  },
  {
   "cell_type": "code",
   "execution_count": null,
   "metadata": {
    "hideCode": false,
    "hidePrompt": false
   },
   "outputs": [],
   "source": [
    "# Code to manually define the color scale:\n",
    "# colorscale=[(0,\"red\"), (0.5,\"green\"),(1,\"blue\")]),"
   ]
  },
  {
   "cell_type": "code",
   "execution_count": null,
   "metadata": {
    "hideCode": false,
    "hidePrompt": false
   },
   "outputs": [],
   "source": [
    "# Data frame used for the Parallel Coordinates plot\n",
    "df = pfs[1];"
   ]
  },
  {
   "cell_type": "markdown",
   "metadata": {
    "hideCode": false,
    "hidePrompt": false
   },
   "source": [
    "Uncostrained:"
   ]
  },
  {
   "cell_type": "code",
   "execution_count": null,
   "metadata": {
    "hideCode": false,
    "hidePrompt": false
   },
   "outputs": [],
   "source": [
    "unconstrained_trace = parcoords(;line = attr(color=df.sDA, colorscale=\"YlGnBu\"),\n",
    "                      dimensions = [\n",
    "                          attr(range = [0.1,0.85],\n",
    "                               label = \"min_opening [m]\", values = df.min_opening),\n",
    "                          attr(range = [10,50],\n",
    "                               label = \"n\", values = df.n),\n",
    "                          attr(range = [0,40],\n",
    "                               label = \"ASE [%]\", values = df.ASE),\n",
    "                          attr(range = [0,50],\n",
    "                               label = \"sDA [%]\", values = df.sDA)\n",
    "                      ]);\n",
    "\n",
    "unconstrained_plot = plot(unconstrained_trace)"
   ]
  },
  {
   "cell_type": "markdown",
   "metadata": {
    "hideCode": false,
    "hidePrompt": false
   },
   "source": [
    "| Resulting Parallel Coordinates Plot from NSGA-II optimization process.|\n",
    "|------------------------------------------------------|\n",
    "| <img src=\"./figures/parallel_coord.png\" width=\"900\"> | "
   ]
  },
  {
   "cell_type": "markdown",
   "metadata": {
    "hideCode": false,
    "hidePrompt": false
   },
   "source": [
    "Constrained:"
   ]
  },
  {
   "cell_type": "code",
   "execution_count": null,
   "metadata": {
    "hideCode": false,
    "hidePrompt": false
   },
   "outputs": [],
   "source": [
    "constrained_trace = parcoords(;line = attr(color=df.sDA, colorscale=\"YlGnBu\"),\n",
    "                    dimensions = [\n",
    "                        attr(range = [0.1,0.85],\n",
    "                               label = \"min_opening [m]\", values = df.min_opening),\n",
    "                        attr(range = [10,50],\n",
    "                               label = \"n\", values = df.n),\n",
    "                        attr(range = [0,40], constraintrange = [0,20],\n",
    "                               label = \"ASE [%]\", values = df.ASE),\n",
    "                        attr(range = [0,50], constraintrange = [40,100],\n",
    "                               label = \"sDA [%]\", values = df.sDA)\n",
    "                    ]);\n",
    "\n",
    "constrained_plot = plot(constrained_trace)"
   ]
  },
  {
   "cell_type": "markdown",
   "metadata": {
    "hideCode": false,
    "hidePrompt": false
   },
   "source": [
    "| Resulting Parallel Coordinates Plot from NSGA-II optimization process with restricted ASE and sDA values.|\n",
    "|------------------------------------------------------|\n",
    "| <img src=\"./figures/parallel_coord_restrict.png\" width=\"900\"> | "
   ]
  },
  {
   "cell_type": "markdown",
   "metadata": {
    "hideCode": false,
    "hidePrompt": false
   },
   "source": [
    "###  Chosen Solution"
   ]
  },
  {
   "cell_type": "markdown",
   "metadata": {
    "hideCode": false,
    "hidePrompt": false
   },
   "source": [
    "__Non Dominated solutions resume:__"
   ]
  },
  {
   "cell_type": "code",
   "execution_count": null,
   "metadata": {
    "hideCode": false,
    "hidePrompt": false
   },
   "outputs": [],
   "source": [
    "# Filtered solutions: show non dominated\n",
    "pfs_nd = filter(row -> row[:isDominated] == 0, pfs[1])[:, 1:4]"
   ]
  },
  {
   "cell_type": "markdown",
   "metadata": {
    "hideCode": false,
    "hidePrompt": false
   },
   "source": [
    "Expected result\n",
    "<img src=\"./figures/non_dominated_chart.png\" width=\"200\">"
   ]
  },
  {
   "cell_type": "markdown",
   "metadata": {
    "hideCode": false,
    "hidePrompt": false
   },
   "source": [
    "Extract the parameters from the non-dominated solutions:"
   ]
  },
  {
   "cell_type": "code",
   "execution_count": null,
   "metadata": {
    "hideCode": false,
    "hidePrompt": false
   },
   "outputs": [],
   "source": [
    "sols_matrix=convert(Matrix, pfs_nd[:, 1:2])\n",
    "non_dominated_sols=getindex.([sols_matrix], 1:size(sols_matrix, 1),:);"
   ]
  },
  {
   "cell_type": "code",
   "execution_count": null,
   "metadata": {},
   "outputs": [],
   "source": [
    "# Background for Unity\n",
    "\n",
    "function background_wall() \n",
    "    background_fam = wall_family_element(default_wall_family())\n",
    "    set_backend_family(background_fam, unity, unity_material_family(\"Default/Materials/WhiteUnlit\"))    \n",
    "    wall([xy(-50, 0), xy(-50, 300)], bottom_level=level(-50), top_level=level(100), family = background_fam)\n",
    "end   "
   ]
  },
  {
   "cell_type": "markdown",
   "metadata": {
    "hideCode": false,
    "hidePrompt": false
   },
   "source": [
    "The `show_solutions` function runs through the entire lists of provided parameter sets, generating the corresponding façade solutions in the backend for comparison. Each solution stays on screen for 4 seconds while the parameter values are printed."
   ]
  },
  {
   "cell_type": "code",
   "execution_count": null,
   "metadata": {
    "hideCode": false,
    "hidePrompt": false
   },
   "outputs": [],
   "source": [
    "show_solutions(lst)=\n",
    " for vals in lst\n",
    "    set_view(xyz(33.55,117.28,19.60), xyz(32.60,117.58,19.58), 30)\n",
    "    delete_all_shapes()\n",
    "    #     building(building_path, vals[1], n1=vals[end]) # view entire building structure with façade\n",
    "    facade_tiles_vis(min1=vals[1], n1=vals[end]) # view façade only\n",
    "    print(vals)\n",
    "    sleep(4)\n",
    " end"
   ]
  },
  {
   "cell_type": "markdown",
   "metadata": {
    "hideCode": false,
    "hidePrompt": false
   },
   "source": [
    "The `save_solutions` function runs through the entire lists of provided parameter sets, generating the corresponding façade solutions in the backend. For each façade it saves a render image whose name corresponds to the parameter values."
   ]
  },
  {
   "cell_type": "code",
   "execution_count": null,
   "metadata": {
    "hideCode": false,
    "hidePrompt": false
   },
   "outputs": [],
   "source": [
    "save_solutions(lst)=\n",
    " for vals in lst\n",
    "    set_view(xyz(33.55,117.28,19.60), xyz(32.60,117.58,19.58), 30)\n",
    "    delete_all_shapes()\n",
    "    background_wall()\n",
    "    facade_tiles_vis(min1=vals[1], n1=vals[end]) # view façade only\n",
    "    render_view(\"$(vals[1])-$(vals[end])\")\n",
    " end"
   ]
  },
  {
   "cell_type": "code",
   "execution_count": null,
   "metadata": {
    "hideCode": false,
    "hidePrompt": false
   },
   "outputs": [],
   "source": [
    "@test begin\n",
    "    backend(unity)\n",
    "    show_solutions(non_dominated_sols)\n",
    "#     save_solutions(non_dominated_sols)\n",
    "end"
   ]
  },
  {
   "cell_type": "markdown",
   "metadata": {
    "hideCode": false,
    "hidePrompt": false
   },
   "source": [
    "Expected result:\n",
    "\n",
    "<img src=\"./figures/show_sols.png\" width=\"1000\">"
   ]
  },
  {
   "cell_type": "markdown",
   "metadata": {
    "hideCode": false,
    "hidePrompt": false
   },
   "source": [
    "After analyzing the non-dominated solutions, the following parameter sets were chosen:"
   ]
  },
  {
   "cell_type": "code",
   "execution_count": null,
   "metadata": {
    "hideCode": false,
    "hidePrompt": false,
    "scrolled": true
   },
   "outputs": [],
   "source": [
    "chosen_sols_params=[0.55, 34];"
   ]
  },
  {
   "cell_type": "code",
   "execution_count": null,
   "metadata": {
    "hideCode": false,
    "hidePrompt": false
   },
   "outputs": [],
   "source": [
    "@test begin\n",
    "    backend(meshcat)\n",
    "    render_size(800, 400)\n",
    "    new_backend()\n",
    "    end;"
   ]
  },
  {
   "cell_type": "code",
   "execution_count": null,
   "metadata": {
    "hideCode": false,
    "hidePrompt": false
   },
   "outputs": [],
   "source": [
    "@test begin\n",
    "    building(building_path, chosen_sols_params[1], n1=chosen_sols_params[end])\n",
    "#     facade_tiles_vis(min1=chosen_sols_params[1], n1=chosen_sols_params[end])\n",
    "    end;"
   ]
  },
  {
   "cell_type": "markdown",
   "metadata": {
    "hideCode": false,
    "hidePrompt": false
   },
   "source": [
    "Expected result:\n",
    "\n",
    "<img src=\"./figures/final_sol_meshcat.png\" width=\"800\">"
   ]
  },
  {
   "cell_type": "markdown",
   "metadata": {
    "hideCode": false,
    "hidePrompt": false
   },
   "source": [
    "###  Overview"
   ]
  },
  {
   "cell_type": "markdown",
   "metadata": {
    "hideCode": false,
    "hidePrompt": false
   },
   "source": [
    "Due to the conflicted nature of the performance goals, it was not possible to reconcile them, even when resorting to optimization strategies. The solutions found by the algorithm that yield an acceptable sDA value, also have a high ASE, meaning the wide availability of daylight will cause moments of visual discomfort. Nevertheless, the information provided by these visualizations is useful to guide future developments of the project, showing which variables the most impact in the performance, and how their ranges should be adjusted to achieve them.\n",
    "\n",
    "In this project iteration, we opted for one of the non-dominated solutions in the Pareto Front, with one of the higher values for the number of tiles on the façade. However, better design solutions for the light problem will have to be sought. The sensitivity analysis results suggest we should also vary the size of the tiles acoording to the building's height: larger opening on the bottom to let the light in, and smaller ones on top to shade the interior. We plan on exploring this design option in the future. As the entire design-to-production process is automated in this Sketchbook, we have but to modify the initial design settings to almost instantly obtain the final models and plans for laser cutting."
   ]
  },
  {
   "cell_type": "markdown",
   "metadata": {
    "hideCode": false,
    "hidePrompt": false
   },
   "source": [
    "#  Presentation"
   ]
  },
  {
   "cell_type": "code",
   "execution_count": null,
   "metadata": {},
   "outputs": [],
   "source": [
    "@test begin\n",
    "    backend(rhino)\n",
    "#     backend(autocad)\n",
    "#     backend(revit)\n",
    "#     backend(unity)\n",
    "end"
   ]
  },
  {
   "cell_type": "code",
   "execution_count": null,
   "metadata": {},
   "outputs": [],
   "source": [
    "@test begin\n",
    "    backend(povray)\n",
    "    using Dates\n",
    "    realistic_sky(turbidity=4,date=DateTime(2020, 9, 21, 8, 0, 0))\n",
    "    render_size(1920, 1080)\n",
    "end"
   ]
  },
  {
   "cell_type": "code",
   "execution_count": null,
   "metadata": {},
   "outputs": [],
   "source": [
    "@test begin\n",
    "    start_film(\"FaçadeOnly\")  \n",
    "    delete_all_shapes()\n",
    "    facade_tiles_vis(building_path; min1=0.55, n1=34)\n",
    "#     ground(z(0), rgb(0.1,0.1,0.1))\n",
    "#     background_wall() \n",
    "    set_view(xyz(33.55,117.28,19.60), xyz(32.60,117.58,19.58), 30) # sideways façade view\n",
    "#     save_film_frame()\n",
    "end;"
   ]
  },
  {
   "cell_type": "markdown",
   "metadata": {},
   "source": [
    "| Final Façade solution in AutoCAD  | Final Façade solution in Rhino | Final Façade solution in POV-Ray  |\n",
    "|-----------------------------------|--------------------------------|-----------------------------------|\n",
    "| <img src=\"./figures/presentation_autocad.png\" width=\"300\"> | <img src=\"./figures/presentation_rhino.png\" width=\"320\"> | <img src=\"./figures/presentation_POVRay.png\" width=\"370\"> | \n",
    "\n",
    "\n",
    "| Final Façade solution in Revit | Final Façade solution in Unity |\n",
    "|--------------------------------|--------------------------------|\n",
    "| <img src=\"./figures/presentation_revit.png\" width=\"375\"> | <img src=\"./figures/presentation_unity0.png\" width=\"500\"> |"
   ]
  },
  {
   "cell_type": "markdown",
   "metadata": {},
   "source": [
    "Testing POV-Ray light and material setting options:"
   ]
  },
  {
   "cell_type": "code",
   "execution_count": null,
   "metadata": {},
   "outputs": [],
   "source": [
    "@test begin\n",
    "    set_backend_family(tile_fam, povray, povray_material_family(povray_material(\"Tile\", gray=0.8)))\n",
    "    set_backend_family(int_wall_fam, povray, povray_wall_family(povray_material(\"IntWall\", gray=0.6)))\n",
    "    set_backend_family(slab_fam, povray, povray_slab_family(povray_material(\"Slab\", gray=0.6)))\n",
    "    set_backend_family(roof_fam, povray, povray_roof_family(povray_material(\"Roof\", gray=0.6)))\n",
    "    realistic_sky(turbidity=4,date=DateTime(2020, 9, 21, 10, 0, 0))\n",
    "    end;"
   ]
  },
  {
   "cell_type": "code",
   "execution_count": null,
   "metadata": {},
   "outputs": [],
   "source": [
    "@test begin\n",
    "    set_backend_family(tile_fam, povray, povray_material_family(povray_material(\"Tile\", gray=0.8)))\n",
    "    set_backend_family(int_wall_fam, povray, povray_wall_family(povray_material(\"IntWall\", gray=0.8)))\n",
    "    set_backend_family(slab_fam, povray, povray_slab_family(povray_material(\"Slab\", gray=0.8)))\n",
    "    set_backend_family(roof_fam, povray, povray_roof_family(povray_material(\"Roof\", gray=0.9)))\n",
    "    realistic_sky(turbidity=2,date=DateTime(2020, 9, 21, 8, 0, 0))\n",
    "    end;"
   ]
  },
  {
   "cell_type": "code",
   "execution_count": null,
   "metadata": {},
   "outputs": [],
   "source": [
    "@test begin\n",
    "    delete_all_shapes()\n",
    "    surroundings()\n",
    "    building(building_path, 0.55, n1=34)\n",
    "    start_film(\"FacadeTiling\")\n",
    "    \n",
    "    set_view(xyz(-27.18,135.08,27.76), xyz(-26.29,135.53,27.68), 24) # indoors\n",
    "    save_film_frame()\n",
    "    \n",
    "    set_view(xyz(-26.57,135.19,34.42), xyz(-25.67,135.62,34.43), 24)  # indoors last floor\n",
    "    save_film_frame()\n",
    "    \n",
    "    set_view(xyz(-8.50321138,129.5714957,19.80033), xyz(-9.267270,130.214392,19.74650), 18) # façade left perspective\n",
    "    save_film_frame()\n",
    "    \n",
    "    set_view(xyz(-13.8431126,144.6069496,0), xyz(-14.32287,144.519572,1), 18) # from the street up\n",
    "    save_film_frame()\n",
    "    \n",
    "    set_view(xyz(21.4603,163.0398900,19.37334), xyz(20.527,162.679,19.356), 18) #other side of the street\n",
    "    save_film_frame()\n",
    "end;"
   ]
  },
  {
   "cell_type": "markdown",
   "metadata": {},
   "source": [
    "Expected result:\n",
    "\n",
    "|                                                            | POV-Ray Renders of Final Façade solution with surroundings.  |\n",
    "|------------------------------------------------------------|--------------------------------------------------------------|\n",
    "| <img src=\"./figures/FacadeTiling-frame-a.png\" width=\"500\"> | <img src=\"./figures/FacadeTiling-frame-002.png\" width=\"500\"> | \n",
    "\n",
    "|                                                            |                                                              |\n",
    "|------------------------------------------------------------|--------------------------------------------------------------|\n",
    "| <img src=\"./figures/FacadeTiling-frame-003.png\" width=\"500\"> | <img src=\"./figures/FacadeTiling-frame-004.png\" width=\"500\"> |\n",
    "\n",
    "|                                                            |\n",
    "|------------------------------------------------------------|\n",
    "| <img src=\"./figures/FacadeTiling-frame-b.png\" width=\"1000\"> |"
   ]
  },
  {
   "cell_type": "markdown",
   "metadata": {
    "hideCode": false,
    "hidePrompt": false
   },
   "source": [
    "# Fabrication"
   ]
  },
  {
   "cell_type": "markdown",
   "metadata": {
    "hideCode": false,
    "hidePrompt": false
   },
   "source": [
    "The façade teling design is planned to be laser cut and assembled on site with metal hinges holding the plates in place. The algorithm bellow automatically generates the produce the different cutting plans in AutoCAD, suiting the specifications of the laser cutting machine. The file should indicate the cutting outlines of the tiles, along with their assembly order to facilitate their placement on the site."
   ]
  },
  {
   "cell_type": "markdown",
   "metadata": {
    "hideCode": false,
    "hidePrompt": false
   },
   "source": [
    "|                                                            | Laser cutting panel subdivision scheme.  |\n",
    "|------------------------------------------------------------|--------------------------------------------------------------|\n",
    "| <img src=\"./figures/laser_1.png\" width=\"450\"> | <img src=\"./figures/laser_2.png\" width=\"550\"> | \n",
    "\n",
    "|                                                            |                                                              |\n",
    "|------------------------------------------------------------|--------------------------------------------------------------|\n",
    "| <img src=\"./figures/laser_4.png\" width=\"450\"> | <img src=\"./figures/laser_3.png\" width=\"550\"> |"
   ]
  },
  {
   "cell_type": "markdown",
   "metadata": {},
   "source": [
    "New `facade_tiles` function creates separated tile panels maintaining the overall sinusoid effect:"
   ]
  },
  {
   "cell_type": "code",
   "execution_count": null,
   "metadata": {
    "hideCode": false,
    "hidePrompt": false
   },
   "outputs": [],
   "source": [
    "function facade_tiles(origin, direction, length, f_length, delta, height, min1=0.15, max1=0.9; n1=43, m=13)\n",
    "    facade_layer = create_layer(\"Facade_Tiles\")\n",
    "    Khepri.with(current_layer, facade_layer) do\n",
    "        Khepri.with(current_cs, cs_from_o_vx_vy(origin+vx(0.1), direction, vz(1))) do\n",
    "            s1= itera_2triangs_mirrorXY(map_division(xy, 0, length, n1, 0, height, m))\n",
    "            pattern.(polygonal_tile,\n",
    "                     s1,\n",
    "                     factor=pts->random_range(min1, max(min1, (abs ∘ sin)((pts[1][1].x+delta)/f_length*n_rooms*π)-(1-max1))))\n",
    "        end\n",
    "    end\n",
    "end"
   ]
  },
  {
   "cell_type": "markdown",
   "metadata": {},
   "source": [
    "New `building` function with façade tiling subdivided in a panel matrix for laser cutting:"
   ]
  },
  {
   "cell_type": "code",
   "execution_count": null,
   "metadata": {},
   "outputs": [],
   "source": [
    "building_with_div_panels(slab_path=building_path, min1=0.55, max1=0.9, n1=34; horizontal_panels=4) =\n",
    "    let pts = path_vertices(slab_path) \n",
    "        pt1, pt2, pt3, pte = pts[[1, 2, 3, end]]\n",
    "        b1 = intermediate_loc(pt1, pte, 0.5)\n",
    "        b2 = intermediate_loc(pt2, pt3, 0.5)  \n",
    "        f_length = Khepri.distance(pts[1:2]...)\n",
    "        \n",
    "        tile_l = f_length / n1\n",
    "        total_panel_h = default_level_to_level_height() * n_floors \n",
    "        f_height = total_panel_h + roof_fam.thickness      \n",
    "        m = ceil(default_level_to_level_height() / tile_l)\n",
    "    \n",
    "        horiz_panel_length = f_length / horizontal_panels\n",
    "        n_per_panel = ceil(horiz_panel_length / tile_l)\n",
    "    \n",
    "        normalize(x) = x/norm(x) \n",
    "        facade_vector = pt2-pt1\n",
    "        panel_vector= normalize(facade_vector)*horiz_panel_length\n",
    "    \n",
    "        default_level(0)\n",
    "        for i in 1:n_floors\n",
    "        \n",
    "            slab(slab_path, family=slab_fam) # slabs\n",
    "\n",
    "            with_wall(slab_path) do w\n",
    "              add_window(w, xy(0.1, 0.1), window_fam(f_length)) # contour walls + windows\n",
    "            end\n",
    "\n",
    "            wall([b1, b2], family=int_wall_fam) # interior back wall\n",
    "        \n",
    "            for ϵ in division(0, 1, n_rooms)[2:end-1] # interior office walls\n",
    "                wall([intermediate_loc(b1, b2, ϵ), intermediate_loc(pt1, pt2, ϵ)], family=int_wall_fam)\n",
    "            end\n",
    "            \n",
    "            for j in 0:horizontal_panels-1 # façade tile panels\n",
    "                facade_tiles(pt1+vz(default_level().height)+panel_vector*j, \n",
    "                    panel_vector, horiz_panel_length, f_length, horiz_panel_length*j,\n",
    "                    default_level_to_level_height(), \n",
    "                    min1, max1, n1=n_per_panel, m=m)\n",
    "            end\n",
    "        \n",
    "            default_level(upper_level())\n",
    "        end\n",
    "        roof(slab_path, family=roof_fam) # roof slab\n",
    "#         facade_tiles(pt1, pt2-pt1, f_length, f_height, min1, max1, n1=n1, m=m) # original façade tiles\n",
    "    end"
   ]
  },
  {
   "cell_type": "code",
   "execution_count": null,
   "metadata": {},
   "outputs": [],
   "source": [
    "@test begin\n",
    "#     backend(rhino)\n",
    "    backend(autocad)\n",
    "end"
   ]
  },
  {
   "cell_type": "code",
   "execution_count": null,
   "metadata": {},
   "outputs": [],
   "source": [
    "@test begin\n",
    "    delete_all_shapes()\n",
    "    building_with_div_panels(horizontal_panels=10)\n",
    "#     set_view(xyz(33.55,117.28,19.60), xyz(32.60,117.58,19.58), 30) # sideways façade view\n",
    "end;"
   ]
  },
  {
   "cell_type": "markdown",
   "metadata": {},
   "source": [
    "`panels_4_laser` prints 2D planification of tile panels laser cutting:"
   ]
  },
  {
   "cell_type": "code",
   "execution_count": null,
   "metadata": {},
   "outputs": [],
   "source": [
    "panels_4_laser(slab_path=building_path, min1=0.55, max1=0.9, n1=34; horizontal_panels=4) =\n",
    "    let pts = path_vertices(slab_path) \n",
    "        pt1, pt2, pt3, pte = pts[[1, 2, 3, end]]\n",
    "        f_length = Khepri.distance(pts[1:2]...)\n",
    "        \n",
    "        tile_l = f_length / n1\n",
    "        total_panel_h = default_level_to_level_height() * n_floors \n",
    "        f_height = total_panel_h + roof_fam.thickness      \n",
    "        m = ceil(default_level_to_level_height() / tile_l)\n",
    "    \n",
    "        horiz_panel_length = f_length / horizontal_panels\n",
    "        n_per_panel = ceil(horiz_panel_length / tile_l)\n",
    "\n",
    "        panel_vector= vx(horiz_panel_length)\n",
    "        offset = tile_l*(1-max1)/2\n",
    "    \n",
    "        # draw 2D cutting lines only\n",
    "        function facade_tiles(origin, direction, length, f_length, delta, height, min1=0.15, max1=0.9; n1=43, m=13)\n",
    "    \n",
    "            polygonal_tile(pts) =\n",
    "                (; factor=0.5) ->\n",
    "                let p = polygon_center(pts)\n",
    "                    qts = [intermediate_loc(p,q,factor) for q in pts]\n",
    "                    polygon(Khepri.distance(qts[1], p) < 0.05 ? [] : qts)\n",
    "                end\n",
    "\n",
    "            Khepri.with(current_cs, cs_from_o_vx_vy(origin, vx(), vy())) do\n",
    "                s1= itera_2triangs_mirrorXY(map_division(xy, 0, length, n1, 0, height, m))\n",
    "                pattern.(polygonal_tile,\n",
    "                         s1,\n",
    "                         factor=pts->random_range(min1, max(min1, (abs ∘ sin)((pts[1][1].x+delta)/f_length*n_rooms*π)-(1-max1))))\n",
    "            end\n",
    "        end\n",
    "    \n",
    "        default_level(0)\n",
    "        for i in 1:n_floors           \n",
    "            for j in 0:horizontal_panels-1 # façade tile panels\n",
    "                let origin = pt1+vy(default_level().height)+panel_vector*j\n",
    "                    facade_tiles(origin, \n",
    "                        panel_vector, horiz_panel_length, f_length, horiz_panel_length*j,\n",
    "                        default_level_to_level_height(), \n",
    "                        min1, max1, n1=n_per_panel, m=m)\n",
    "                    rectangle(origin, horiz_panel_length, default_level_to_level_height())\n",
    "                    for p in [origin, origin+vx(horiz_panel_length-3offset)] \n",
    "                        text(\"$(i)/$(j+1)\", p+vxy(offset/2, offset/2), offset/2)\n",
    "                    end\n",
    "                end\n",
    "            end       \n",
    "            default_level(upper_level())\n",
    "        end\n",
    "    end"
   ]
  },
  {
   "cell_type": "code",
   "execution_count": null,
   "metadata": {},
   "outputs": [],
   "source": [
    "@test begin\n",
    "    delete_all_shapes()\n",
    "    panels_4_laser(horizontal_panels=4)\n",
    "end;"
   ]
  },
  {
   "cell_type": "markdown",
   "metadata": {
    "hideCode": false,
    "hidePrompt": false
   },
   "source": [
    "| Laser cutting planification in AutoCAD  |\n",
    "|------------------------------------------|\n",
    "| <img src=\"./figures/autocad_laser_plan.png\" width=\"500\"> | \n",
    "\n",
    "| Panel number identification close-up |\n",
    "|------------------------------------------|\n",
    "|<img src=\"./figures/autocad_laser_id.png\" width=\"900\"> |\n",
    "\n",
    "|    Panel number identification close-up |\n",
    "|------------------------------------------|\n",
    "|<img src=\"./figures/autocad_laser_id2.png\" width=\"900\"> |"
   ]
  },
  {
   "cell_type": "markdown",
   "metadata": {},
   "source": [
    "_The end_"
   ]
  },
  {
   "cell_type": "code",
   "execution_count": null,
   "metadata": {},
   "outputs": [],
   "source": []
  }
 ],
 "metadata": {
  "@webio": {
   "lastCommId": null,
   "lastKernelId": null
  },
  "hide_code_all_hidden": false,
  "kernelspec": {
   "display_name": "Julia 1.4.1",
   "language": "julia",
   "name": "julia-1.4"
  },
  "language_info": {
   "file_extension": ".jl",
   "mimetype": "application/julia",
   "name": "julia",
   "version": "1.4.1"
  },
  "toc": {
   "base_numbering": 1,
   "nav_menu": {
    "height": "280px",
    "width": "388px"
   },
   "number_sections": true,
   "sideBar": true,
   "skip_h1_title": false,
   "title_cell": "Table of Contents",
   "title_sidebar": "Contents",
   "toc_cell": false,
   "toc_position": {
    "height": "calc(100% - 180px)",
    "left": "10px",
    "top": "150px",
    "width": "230px"
   },
   "toc_section_display": true,
   "toc_window_display": true
  },
  "toc-autonumbering": true,
  "toc-showcode": false,
  "toc-showtags": false
 },
 "nbformat": 4,
 "nbformat_minor": 4
}
